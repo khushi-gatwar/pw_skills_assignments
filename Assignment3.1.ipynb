{
 "cells": [
  {
   "cell_type": "markdown",
   "id": "7a3a3440-c7f1-4ce9-9bcb-93c74c486358",
   "metadata": {
    "jp-MarkdownHeadingCollapsed": true,
    "tags": []
   },
   "source": [
    "# Q1. Which keyword is used to create a function? Create a function to return a list of odd numbers in the range of 1 to 25."
   ]
  },
  {
   "cell_type": "markdown",
   "id": "1826974b-2ba2-4650-a1b9-89a261f30e20",
   "metadata": {},
   "source": [
    "def keyword is used to create a function"
   ]
  },
  {
   "cell_type": "code",
   "execution_count": 4,
   "id": "4c9282ca-fda7-4218-a86c-b799e3b32002",
   "metadata": {},
   "outputs": [],
   "source": [
    "def odd_num():\n",
    "    l = [];\n",
    "    for i in range(1,26):\n",
    "        if(i%2 != 0):\n",
    "            l.append(i)\n",
    "    return l"
   ]
  },
  {
   "cell_type": "code",
   "execution_count": 5,
   "id": "fb62d6c6-22e7-42d1-8913-221b9edba012",
   "metadata": {},
   "outputs": [
    {
     "data": {
      "text/plain": [
       "[1, 3, 5, 7, 9, 11, 13, 15, 17, 19, 21, 23, 25]"
      ]
     },
     "execution_count": 5,
     "metadata": {},
     "output_type": "execute_result"
    }
   ],
   "source": [
    "odd_num()"
   ]
  },
  {
   "cell_type": "markdown",
   "id": "84b5ee7f-6279-461f-a5c0-b39f45c66cc5",
   "metadata": {
    "jp-MarkdownHeadingCollapsed": true,
    "tags": []
   },
   "source": [
    "# Q2. Why *args and **kwargs is used in some functions? Create a function each for *args and **kwargs to demonstrate their use."
   ]
  },
  {
   "cell_type": "markdown",
   "id": "a1f960d1-f4d8-458a-9400-9b31faf00eb3",
   "metadata": {},
   "source": [
    "*args and **kwargs are used in some functions to pass variable number of argumnets to the function.kwargs are used for keyworded variable number of arguments."
   ]
  },
  {
   "cell_type": "code",
   "execution_count": 12,
   "id": "058b6dd8-d08f-4444-aaae-a71b44cde042",
   "metadata": {},
   "outputs": [],
   "source": [
    "def fun1(*args):\n",
    "    return sum(args)"
   ]
  },
  {
   "cell_type": "code",
   "execution_count": 13,
   "id": "e77d51fa-7eca-4382-b319-5a45c81e4d48",
   "metadata": {},
   "outputs": [
    {
     "data": {
      "text/plain": [
       "8"
      ]
     },
     "execution_count": 13,
     "metadata": {},
     "output_type": "execute_result"
    }
   ],
   "source": [
    "fun1(1,2,5)"
   ]
  },
  {
   "cell_type": "code",
   "execution_count": 17,
   "id": "ededf3ca-a7ae-4602-b3b9-d868b716469d",
   "metadata": {},
   "outputs": [],
   "source": [
    "def fun2(**kwargs):\n",
    "    for key in kwargs.items():\n",
    "        print(key)\n",
    "        \n",
    "    "
   ]
  },
  {
   "cell_type": "code",
   "execution_count": 18,
   "id": "a5d59b6c-134c-4c96-ad43-bd588ef8c7df",
   "metadata": {},
   "outputs": [
    {
     "name": "stdout",
     "output_type": "stream",
     "text": [
      "('a', 1)\n",
      "('b', 2)\n",
      "('c', 3)\n"
     ]
    }
   ],
   "source": [
    "fun2(a=1,b=2,c=3)"
   ]
  },
  {
   "cell_type": "markdown",
   "id": "f82e0431-338c-4849-a2eb-0769815305e5",
   "metadata": {
    "jp-MarkdownHeadingCollapsed": true,
    "tags": []
   },
   "source": [
    "# Q3. What is an iterator in python? Name the method used to initialise the iterator object and the method used for iteration. Use these methods to print the first five elements of the given list [2, 4, 6, 8, 10, 12, 14, 16, 18, 20]."
   ]
  },
  {
   "cell_type": "markdown",
   "id": "e88076ad-4de6-41b4-be3e-6bbf4d498d77",
   "metadata": {},
   "source": [
    "An iterator in python is an object that is used to iterate over iterable objects such as lists.\n",
    "iter() method is used to initialise an iterator.\n",
    "next() method is used for iteration."
   ]
  },
  {
   "cell_type": "code",
   "execution_count": 26,
   "id": "1315f315-c925-49ed-b0a7-1db759999d28",
   "metadata": {},
   "outputs": [
    {
     "name": "stdout",
     "output_type": "stream",
     "text": [
      "2\n",
      "4\n",
      "6\n",
      "8\n",
      "10\n"
     ]
    }
   ],
   "source": [
    "l = [2, 4, 6, 8, 10, 12, 14, 16, 18, 20]\n",
    "it = iter(l)\n",
    "\n",
    "for i in range(5):\n",
    "    print(next(it))\n"
   ]
  },
  {
   "cell_type": "markdown",
   "id": "55272b59-49af-4859-b5bb-ea8d9c213546",
   "metadata": {
    "tags": []
   },
   "source": [
    "# Q4. What is a generator function in python? Why yield keyword is used? Give an example of a generator function."
   ]
  },
  {
   "cell_type": "markdown",
   "id": "a8f93642-4d14-45d5-b053-092c29a7abc5",
   "metadata": {},
   "source": [
    "Generator function in python is a special type of function that generates a sequence of values using the yield keyword.\n",
    "yield keyword is used instead of return in generator function.whenever the function encounters yield keyworded it stops execution and returns the yielded value."
   ]
  },
  {
   "cell_type": "code",
   "execution_count": 27,
   "id": "6f45a526-a4f0-4cff-9311-b4311dbbdf30",
   "metadata": {},
   "outputs": [
    {
     "name": "stdout",
     "output_type": "stream",
     "text": [
      "0\n",
      "1\n",
      "1\n",
      "2\n",
      "3\n",
      "5\n",
      "8\n",
      "13\n",
      "21\n",
      "34\n",
      "55\n",
      "89\n",
      "144\n",
      "233\n",
      "377\n"
     ]
    }
   ],
   "source": [
    "def fibonacci_gen():\n",
    "    a, b = 0, 1\n",
    "    while True:\n",
    "        yield a\n",
    "        a, b = b, a + b\n",
    "\n",
    "fib_gen = fibonacci_gen()\n",
    "\n",
    "for _ in range(15):\n",
    "    fib_num = next(fib_gen)\n",
    "    print(fib_num)"
   ]
  },
  {
   "cell_type": "markdown",
   "id": "11b5baa2-b1ee-4bce-80e5-42365640b51b",
   "metadata": {
    "tags": []
   },
   "source": [
    "# Q5. Create a generator function for prime numbers less than 1000. Use the next() method to print the first 20 prime numbers."
   ]
  },
  {
   "cell_type": "code",
   "execution_count": 1,
   "id": "53a9f389-cc5f-4152-9880-404ecf60175d",
   "metadata": {},
   "outputs": [
    {
     "name": "stdout",
     "output_type": "stream",
     "text": [
      "2\n",
      "3\n",
      "5\n",
      "7\n",
      "11\n",
      "13\n",
      "17\n",
      "19\n",
      "23\n",
      "29\n",
      "31\n",
      "37\n",
      "41\n",
      "43\n",
      "47\n",
      "53\n",
      "59\n",
      "61\n",
      "67\n",
      "71\n"
     ]
    }
   ],
   "source": [
    "def prime_generator():\n",
    "    num = 2\n",
    "    while num < 1000:\n",
    "        if all(num % i != 0 for i in range(2, int(num**0.5) + 1)):\n",
    "            yield num\n",
    "        num += 1\n",
    "        \n",
    "prime_gen = prime_generator()\n",
    "\n",
    "for n in range(20):\n",
    "    prime_num = next(prime_gen)\n",
    "    print(prime_num)\n",
    "    "
   ]
  },
  {
   "cell_type": "markdown",
   "id": "d3aec48f-6aab-47e5-8aa6-930da531d5ba",
   "metadata": {
    "tags": []
   },
   "source": [
    "# Q6. Write a python program to print the first 10 Fibonacci numbers using a while loop."
   ]
  },
  {
   "cell_type": "code",
   "execution_count": 3,
   "id": "34b83f61-f061-42e9-b834-a95ca07a7a55",
   "metadata": {},
   "outputs": [
    {
     "name": "stdout",
     "output_type": "stream",
     "text": [
      "0\n",
      "1\n",
      "1\n",
      "2\n",
      "3\n",
      "5\n",
      "8\n",
      "13\n",
      "21\n",
      "34\n"
     ]
    }
   ],
   "source": [
    "num1 = 0\n",
    "num2 = 1\n",
    "next_num = 0\n",
    "count = 1\n",
    "while(count <= 10):\n",
    "    print(next_num)\n",
    "    count+=1\n",
    "    num1 = num2\n",
    "    num2 = next_num\n",
    "    next_num = num1 + num2\n",
    "    "
   ]
  },
  {
   "cell_type": "markdown",
   "id": "33cd62d5-24e1-4f04-b99e-d3a7f30bcc2b",
   "metadata": {
    "tags": []
   },
   "source": [
    "# Q7. Write a List Comprehension to iterate through the given string: ‘pwskills’. Expected output: ['p', 'w', 's', 'k', 'i', 'l', 'l', 's']"
   ]
  },
  {
   "cell_type": "code",
   "execution_count": 9,
   "id": "2a099ec9-c22a-4d31-bea5-f78dc609f0f6",
   "metadata": {},
   "outputs": [
    {
     "name": "stdout",
     "output_type": "stream",
     "text": [
      "['p', 'w', 's', 'k', 'i', 'l', 'l', 's']\n"
     ]
    }
   ],
   "source": [
    "s = \"pwskills\"\n",
    "\n",
    "output = [char for char in s ]\n",
    "print(output)"
   ]
  },
  {
   "cell_type": "markdown",
   "id": "e73ed178-25a9-48be-8615-aab8a49e2b99",
   "metadata": {
    "tags": []
   },
   "source": [
    "# Q8. Write a python program to check whether a given number is Palindrome or not using a while loop."
   ]
  },
  {
   "cell_type": "code",
   "execution_count": 11,
   "id": "dddcb081-ef79-4566-ac25-33cb8c04650e",
   "metadata": {},
   "outputs": [
    {
     "name": "stdin",
     "output_type": "stream",
     "text": [
      "Enter number:  100\n"
     ]
    },
    {
     "name": "stdout",
     "output_type": "stream",
     "text": [
      "Not a palindrome\n"
     ]
    }
   ],
   "source": [
    "n = int(input(\"Enter number: \"))\n",
    "original= n\n",
    "reversed = 0\n",
    "\n",
    "while(n > 0):\n",
    "    digit = n%10\n",
    "    reversed = (reversed*10)+digit\n",
    "    n //= 10\n",
    "    \n",
    "if(original == reversed):\n",
    "    print(\"Palindrome\")\n",
    "else:\n",
    "    print(\"Not a palindrome\")"
   ]
  },
  {
   "cell_type": "markdown",
   "id": "cff2cf1a-0ace-4313-b77a-f843ac001771",
   "metadata": {
    "tags": []
   },
   "source": [
    "# Q9. Write a code to print odd numbers from 1 to 100 using list comprehension."
   ]
  },
  {
   "cell_type": "code",
   "execution_count": 14,
   "id": "b234fd32-5b73-4118-bbcb-f7793a72747a",
   "metadata": {},
   "outputs": [
    {
     "name": "stdout",
     "output_type": "stream",
     "text": [
      "[1, 3, 5, 7, 9, 11, 13, 15, 17, 19, 21, 23, 25, 27, 29, 31, 33, 35, 37, 39, 41, 43, 45, 47, 49, 51, 53, 55, 57, 59, 61, 63, 65, 67, 69, 71, 73, 75, 77, 79, 81, 83, 85, 87, 89, 91, 93, 95, 97, 99]\n"
     ]
    }
   ],
   "source": [
    "odd_num = [num for num in range(1, 101) if num % 2 != 0]\n",
    "print(odd_num)"
   ]
  }
 ],
 "metadata": {
  "kernelspec": {
   "display_name": "Python 3 (ipykernel)",
   "language": "python",
   "name": "python3"
  },
  "language_info": {
   "codemirror_mode": {
    "name": "ipython",
    "version": 3
   },
   "file_extension": ".py",
   "mimetype": "text/x-python",
   "name": "python",
   "nbconvert_exporter": "python",
   "pygments_lexer": "ipython3",
   "version": "3.10.8"
  }
 },
 "nbformat": 4,
 "nbformat_minor": 5
}
