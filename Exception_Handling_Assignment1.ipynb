{
 "cells": [
  {
   "cell_type": "markdown",
   "id": "98917d31-5735-48b1-806a-0ba7310db77c",
   "metadata": {},
   "source": [
    "# Q1. What is in Exception in python? Write the difference between Exceptions and syntax errors"
   ]
  },
  {
   "cell_type": "markdown",
   "id": "b86822eb-f20a-4513-bc3a-a21cd3cd3157",
   "metadata": {},
   "source": [
    "An exception is an event that occurs during the execution of a program that disrupts the normal flow of the program's instructions. Exceptions are typically errors or unusual conditions that arise during runtime and may cause the program to terminate or behave unexpectedly if not handled properly.\n",
    "\n",
    "## Difference between exceptions and syntax errors\n",
    "\n",
    "- Exceptions occur during the execution of the program\n",
    "- Syntax error occurs due to incorrect syntax of the code like missing semicolons,incorrect indentation,etc.\n",
    "\n",
    "- Exceptions are detected during run-time.\n",
    "- Syntax error is detected during compile-time.\n",
    "\n",
    "- Exceptions can be handled using try and except statements\n",
    "- But syntax error need to be corrected for the program to execute."
   ]
  },
  {
   "cell_type": "markdown",
   "id": "61c3b3ea-8ace-4002-90c4-8c17efd6d777",
   "metadata": {},
   "source": [
    "# Q2. What happens when an exception is not handled? Explain with an example."
   ]
  },
  {
   "cell_type": "markdown",
   "id": "1566f4e0-aaf6-46cf-b174-d17510540eb1",
   "metadata": {},
   "source": [
    "When an exception is not handled the execution of the program stops and an error message is displayed.If exception is not handled then no part of the code will be executed i.e. the program crashes."
   ]
  },
  {
   "cell_type": "code",
   "execution_count": 2,
   "id": "15eae91e-26e7-41ae-baf7-38bebf69793e",
   "metadata": {},
   "outputs": [
    {
     "ename": "ZeroDivisionError",
     "evalue": "division by zero",
     "output_type": "error",
     "traceback": [
      "\u001b[0;31m---------------------------------------------------------------------------\u001b[0m",
      "\u001b[0;31mZeroDivisionError\u001b[0m                         Traceback (most recent call last)",
      "Cell \u001b[0;32mIn[2], line 6\u001b[0m\n\u001b[1;32m      3\u001b[0m a\u001b[38;5;241m=\u001b[39m \u001b[38;5;241m10\u001b[39m\n\u001b[1;32m      4\u001b[0m b \u001b[38;5;241m=\u001b[39m \u001b[38;5;241m0\u001b[39m\n\u001b[0;32m----> 6\u001b[0m \u001b[43ma\u001b[49m\u001b[38;5;241;43m/\u001b[39;49m\u001b[43mb\u001b[49m\n",
      "\u001b[0;31mZeroDivisionError\u001b[0m: division by zero"
     ]
    }
   ],
   "source": [
    "# Showing ZeroDivision Error\n",
    "\n",
    "a= 10\n",
    "b = 0\n",
    "\n",
    "a/b"
   ]
  },
  {
   "cell_type": "code",
   "execution_count": 3,
   "id": "f1f2c366-5b3c-4b02-9451-cf4c19a84be3",
   "metadata": {},
   "outputs": [
    {
     "name": "stdout",
     "output_type": "stream",
     "text": [
      "Error:  division by zero\n"
     ]
    }
   ],
   "source": [
    "# Using Exception handling\n",
    "\n",
    "try:\n",
    "    a=10\n",
    "    b = 0\n",
    "    \n",
    "    a/b\n",
    "    \n",
    "except ZeroDivisionError as e:\n",
    "    print(\"Error: \",e)"
   ]
  },
  {
   "cell_type": "markdown",
   "id": "d799073b-6e03-4c07-bd02-d9803b8f1b7e",
   "metadata": {},
   "source": [
    "# Q3. Which Python statements are used to catch and handle exceptions? Explain with an example."
   ]
  },
  {
   "cell_type": "markdown",
   "id": "4d29f4f8-af1d-4edc-9d66-ecbd2226f42c",
   "metadata": {},
   "source": [
    "Try and except statements are used to catch and handle exceptions.\n"
   ]
  },
  {
   "cell_type": "code",
   "execution_count": 7,
   "id": "f7ae4a70-b3b8-4be7-9d5d-85dbd5518cd6",
   "metadata": {},
   "outputs": [
    {
     "name": "stdin",
     "output_type": "stream",
     "text": [
      "Enter a number:  a\n"
     ]
    },
    {
     "name": "stdout",
     "output_type": "stream",
     "text": [
      "Error:  invalid literal for int() with base 10: 'a' \n",
      "Enter a valid input\n",
      "Execution complete.\n"
     ]
    }
   ],
   "source": [
    "try:\n",
    "    num = int(input(\"Enter a number: \"))\n",
    "    result = 10 / num\n",
    "except ZeroDivisionError as e:\n",
    "    print(\"Error: \",e)\n",
    "except ValueError as e:\n",
    "    print(\"Error: \",e,\"\\nEnter a valid input\")\n",
    "else:\n",
    "    print(\"Division result:\", result)\n",
    "finally:\n",
    "    print(\"Execution complete.\")"
   ]
  },
  {
   "cell_type": "markdown",
   "id": "80427b02-3b0d-4d9c-9351-11a3c85eb257",
   "metadata": {},
   "source": [
    "# Q4 Explain with an example.\n",
    "- try and except\n",
    "- finally\n",
    "- raise"
   ]
  },
  {
   "cell_type": "markdown",
   "id": "774730aa-1073-43f4-a799-99881940b17e",
   "metadata": {},
   "source": [
    "## Example 1: \n",
    "- try and except \n",
    "- finally"
   ]
  },
  {
   "cell_type": "code",
   "execution_count": 8,
   "id": "7732b5b5-369d-4444-999a-778fcb434e92",
   "metadata": {},
   "outputs": [
    {
     "name": "stdin",
     "output_type": "stream",
     "text": [
      "Enter a number:  0\n"
     ]
    },
    {
     "name": "stdout",
     "output_type": "stream",
     "text": [
      "Error:  division by zero\n",
      "Execution complete.\n"
     ]
    }
   ],
   "source": [
    "try:\n",
    "    num = int(input(\"Enter a number: \"))\n",
    "    result = 10 / num\n",
    "except ZeroDivisionError as e:\n",
    "    print(\"Error: \",e)\n",
    "except ValueError as e:\n",
    "    print(\"Error: \",e,\"\\nEnter a valid input\")\n",
    "else:\n",
    "    print(\"Division result:\", result)\n",
    "finally:\n",
    "    print(\"Execution complete.\")"
   ]
  },
  {
   "cell_type": "markdown",
   "id": "97c7a336-843d-45cb-a212-1c3134e982ca",
   "metadata": {},
   "source": [
    "## Example 2:\n",
    "- raise"
   ]
  },
  {
   "cell_type": "code",
   "execution_count": 10,
   "id": "68abecd0-1d75-498c-bc4f-e4e22fa3981f",
   "metadata": {},
   "outputs": [
    {
     "name": "stdin",
     "output_type": "stream",
     "text": [
      "Enter your age:  500\n"
     ]
    },
    {
     "name": "stdout",
     "output_type": "stream",
     "text": [
      "Error: Entered age is very large!\n"
     ]
    }
   ],
   "source": [
    "def ValidAge(age):\n",
    "    if age<0:\n",
    "        raise ValueError(\"Age cannot be negative!\")\n",
    "    elif age > 200:\n",
    "        raise ValueError(\"Entered age is very large!\")\n",
    "    return age\n",
    "\n",
    "\n",
    "try:\n",
    "    age = int(input(\"Enter your age: \"))\n",
    "    valid_age = ValidAge(age)\n",
    "    print(\"Your age:\", valid_age)\n",
    "except ValueError as v:\n",
    "    print(\"Error:\", v)"
   ]
  },
  {
   "cell_type": "markdown",
   "id": "3d7752d9-9a9c-4c58-ad37-592ee91222fb",
   "metadata": {},
   "source": [
    "# Q5 What are custom exceptions in python? Why do we need custom exceptions? Explain with an example."
   ]
  },
  {
   "cell_type": "markdown",
   "id": "ac7c0c93-6041-4b41-b4ed-b0a9b1329575",
   "metadata": {},
   "source": [
    "Custom exceptions in Python, also known as user-defined exceptions, allow you to create your own exception classes to represent specific error conditions that might occur in your program. While Python provides a wide range of built-in exceptions to handle common error scenarios, there are cases where you might want to define your own exceptions to provide more specific and meaningful error messages for your application.\n",
    "\n",
    "Need of custom exceptions:\n",
    "- Provide meaningful error messages\n",
    "- grouping related errors\n",
    "- improves readability\n",
    "- helps in debugging"
   ]
  },
  {
   "cell_type": "code",
   "execution_count": 13,
   "id": "abe53a61-60c3-450c-9c46-28d3ad995641",
   "metadata": {},
   "outputs": [
    {
     "name": "stdin",
     "output_type": "stream",
     "text": [
      "Enter a positive number:  -5\n"
     ]
    },
    {
     "name": "stdout",
     "output_type": "stream",
     "text": [
      "Error: Negative number not allowed:\n",
      " Entered number: -5\n"
     ]
    }
   ],
   "source": [
    "class NegativeNumberError(Exception):\n",
    "    \"\"\"Custom exception for negative numbers.\"\"\"\n",
    "    def __init__(self, number):\n",
    "        self.number = number\n",
    "        super().__init__(f\"Negative number not allowed:\\n Entered number: {number}\")\n",
    "\n",
    "def process_number(number):\n",
    "    if number < 0:\n",
    "        raise NegativeNumberError(number)\n",
    "    return number \n",
    "\n",
    "try:\n",
    "    num = int(input(\"Enter a positive number: \"))\n",
    "    result = process_number(num)\n",
    "    print(f\"Result: {result}\")\n",
    "except NegativeNumberError as n:\n",
    "    print(\"Error:\", n)\n",
    "else:\n",
    "    print(\"Processing successful.\")"
   ]
  },
  {
   "cell_type": "markdown",
   "id": "ab54d3e6-db7f-45d9-811b-20efa8b50d25",
   "metadata": {},
   "source": [
    "# Q6. Create a custom exception class. Use this class to handle an exception."
   ]
  },
  {
   "cell_type": "code",
   "execution_count": 14,
   "id": "859e55f0-c41d-41e5-980a-ab69e6d31e7b",
   "metadata": {},
   "outputs": [
    {
     "name": "stdin",
     "output_type": "stream",
     "text": [
      "Enter a positive number:  45\n"
     ]
    },
    {
     "name": "stdout",
     "output_type": "stream",
     "text": [
      "Result: 45\n",
      "Processing successful.\n"
     ]
    }
   ],
   "source": [
    "class NegativeNumberError(Exception):\n",
    "    \"\"\"Custom exception for negative numbers.\"\"\"\n",
    "    def __init__(self, number):\n",
    "        self.number = number\n",
    "        super().__init__(f\"Negative number not allowed:\\n Entered number: {number}\")\n",
    "\n",
    "def process_number(number):\n",
    "    if number < 0:\n",
    "        raise NegativeNumberError(number)\n",
    "    return number \n",
    "\n",
    "try:\n",
    "    num = int(input(\"Enter a positive number: \"))\n",
    "    result = process_number(num)\n",
    "    print(f\"Result: {result}\")\n",
    "except NegativeNumberError as n:\n",
    "    print(\"Error:\", n)\n",
    "else:\n",
    "    print(\"Processing successful.\")"
   ]
  },
  {
   "cell_type": "code",
   "execution_count": null,
   "id": "15c7278b-dab9-480c-8a1e-7880b50476d4",
   "metadata": {},
   "outputs": [],
   "source": []
  }
 ],
 "metadata": {
  "kernelspec": {
   "display_name": "Python 3 (ipykernel)",
   "language": "python",
   "name": "python3"
  },
  "language_info": {
   "codemirror_mode": {
    "name": "ipython",
    "version": 3
   },
   "file_extension": ".py",
   "mimetype": "text/x-python",
   "name": "python",
   "nbconvert_exporter": "python",
   "pygments_lexer": "ipython3",
   "version": "3.10.8"
  }
 },
 "nbformat": 4,
 "nbformat_minor": 5
}
