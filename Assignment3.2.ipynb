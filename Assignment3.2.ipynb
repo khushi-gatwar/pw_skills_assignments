{
 "cells": [
  {
   "cell_type": "markdown",
   "id": "3c7bc73d-64ed-4d1f-94f2-500f26066a42",
   "metadata": {
    "jp-MarkdownHeadingCollapsed": true,
    "tags": []
   },
   "source": [
    "# Q1. Create a python program to sort the given list of tuples based on integer value using a lambda function."
   ]
  },
  {
   "cell_type": "code",
   "execution_count": 1,
   "id": "269da82d-dfed-4b45-b5e0-cda9b65706fc",
   "metadata": {},
   "outputs": [],
   "source": [
    "l = [('Sachin Tendulkar', 34357), ('Ricky Ponting', 27483), ('Jack Kallis', 25534), ('Virat Kohli', 24936)]"
   ]
  },
  {
   "cell_type": "code",
   "execution_count": 2,
   "id": "4ebad24f-39ad-4ae6-b64f-b6a228e3024e",
   "metadata": {},
   "outputs": [],
   "source": [
    "l.sort(key = lambda a:a[1])"
   ]
  },
  {
   "cell_type": "code",
   "execution_count": 3,
   "id": "d5397af1-e3fa-4938-b86c-c9ee888cf475",
   "metadata": {},
   "outputs": [
    {
     "name": "stdout",
     "output_type": "stream",
     "text": [
      "[('Virat Kohli', 24936), ('Jack Kallis', 25534), ('Ricky Ponting', 27483), ('Sachin Tendulkar', 34357)]\n"
     ]
    }
   ],
   "source": [
    "print(l)"
   ]
  },
  {
   "cell_type": "markdown",
   "id": "6e1c3b7b-122d-40aa-ab25-68479e44600a",
   "metadata": {
    "jp-MarkdownHeadingCollapsed": true,
    "tags": []
   },
   "source": [
    "# Q2. Write a Python Program to find the squares of all the numbers in the given list of integers using lambda and map functions.\n",
    "## [1, 2, 3, 4, 5, 6, 7, 8, 9, 10]"
   ]
  },
  {
   "cell_type": "code",
   "execution_count": 9,
   "id": "062ea8f0-a0ab-4d75-b2bf-3cbab321863e",
   "metadata": {},
   "outputs": [],
   "source": [
    "nums = [1, 2, 3, 4, 5, 6, 7, 8, 9, 10]\n",
    "\n",
    "sqr = list(map(lambda x:x*x ,nums))"
   ]
  },
  {
   "cell_type": "code",
   "execution_count": 10,
   "id": "155e26ba-0404-40ba-9fdb-27a961482c35",
   "metadata": {},
   "outputs": [
    {
     "name": "stdout",
     "output_type": "stream",
     "text": [
      "[1, 4, 9, 16, 25, 36, 49, 64, 81, 100]\n"
     ]
    }
   ],
   "source": [
    "print(sqr)"
   ]
  },
  {
   "cell_type": "markdown",
   "id": "5c3cd2c9-f816-4bbb-8a6f-15bfdd314144",
   "metadata": {
    "jp-MarkdownHeadingCollapsed": true,
    "tags": []
   },
   "source": [
    "# Q3. Write a python program to convert the given list of integers into a tuple of strings. Use map and lambda functions\n",
    "## Given String: [1, 2, 3, 4, 5, 6, 7, 8, 9, 10]\n",
    "## Expected output: ('1', '2', '3', '4', '5', '6', '7', '8', '9', '10')"
   ]
  },
  {
   "cell_type": "code",
   "execution_count": 11,
   "id": "ffc97098-7045-4c72-9707-b4eb419e241c",
   "metadata": {},
   "outputs": [],
   "source": [
    "ints = [1, 2, 3, 4, 5, 6, 7, 8, 9, 10]\n",
    "\n",
    "strs = tuple(map(lambda x:str(x),ints))"
   ]
  },
  {
   "cell_type": "code",
   "execution_count": 12,
   "id": "22a870e0-338a-4405-99a2-0eb82f4a88c7",
   "metadata": {},
   "outputs": [
    {
     "name": "stdout",
     "output_type": "stream",
     "text": [
      "('1', '2', '3', '4', '5', '6', '7', '8', '9', '10')\n"
     ]
    }
   ],
   "source": [
    "print(strs)"
   ]
  },
  {
   "cell_type": "markdown",
   "id": "dadd803f-fb13-4458-a7b0-37e0ab47a083",
   "metadata": {
    "jp-MarkdownHeadingCollapsed": true,
    "tags": []
   },
   "source": [
    "# Q4. Write a python program using reduce function to compute the product of a list containing numbers from 1 to 25."
   ]
  },
  {
   "cell_type": "code",
   "execution_count": 13,
   "id": "fd8711d7-d05d-4308-9ab8-d6166795e40c",
   "metadata": {},
   "outputs": [],
   "source": [
    "from functools import reduce\n",
    "nums = list(range(1,26))\n",
    "\n",
    "prod = reduce(lambda x,y:x*y,nums)\n"
   ]
  },
  {
   "cell_type": "code",
   "execution_count": 14,
   "id": "a08c171a-482b-4026-9b8e-909f8a4e9ddf",
   "metadata": {},
   "outputs": [
    {
     "name": "stdout",
     "output_type": "stream",
     "text": [
      "15511210043330985984000000\n"
     ]
    }
   ],
   "source": [
    "print(prod)"
   ]
  },
  {
   "cell_type": "markdown",
   "id": "c9d4cf9e-a864-4cf9-9312-2ed43a4b6e1b",
   "metadata": {},
   "source": [
    "# Q5. Write a python program to filter the numbers in a given list that are divisible by 2 and 3 using the filter function."
   ]
  },
  {
   "cell_type": "code",
   "execution_count": 15,
   "id": "28a9786e-d15d-4eee-ae76-ad8e6f3a5193",
   "metadata": {},
   "outputs": [],
   "source": [
    "nums = [2, 3, 6, 9, 27, 60, 90, 120, 55, 46]\n",
    "\n",
    "divisible_nums = list(filter(lambda x: x % 2 == 0 and x % 3 == 0, nums))"
   ]
  },
  {
   "cell_type": "code",
   "execution_count": 16,
   "id": "44fd1de3-70ea-4f28-aaf1-bd739554edfc",
   "metadata": {},
   "outputs": [
    {
     "name": "stdout",
     "output_type": "stream",
     "text": [
      "[6, 60, 90, 120]\n"
     ]
    }
   ],
   "source": [
    "print(divisible_nums)"
   ]
  },
  {
   "cell_type": "markdown",
   "id": "a094b4e2-334e-44a9-98f8-04538a3cb1bf",
   "metadata": {},
   "source": [
    "# Q6. Write a python program to find palindromes in the given list of strings using lambda and filter function.\n",
    "## ['python', 'php', 'aba', 'radar', 'level']"
   ]
  },
  {
   "cell_type": "code",
   "execution_count": 17,
   "id": "f674c8b6-74df-4373-8c19-49974f1a2390",
   "metadata": {},
   "outputs": [],
   "source": [
    "words = ['python', 'php', 'aba', 'radar', 'level']\n",
    "\n",
    "palindrome = list(filter(lambda word: word == word[::-1], words))"
   ]
  },
  {
   "cell_type": "code",
   "execution_count": 18,
   "id": "8e02b222-a32f-4d93-8932-3a17024eac73",
   "metadata": {},
   "outputs": [
    {
     "name": "stdout",
     "output_type": "stream",
     "text": [
      "['php', 'aba', 'radar', 'level']\n"
     ]
    }
   ],
   "source": [
    "print(palindrome)"
   ]
  },
  {
   "cell_type": "code",
   "execution_count": null,
   "id": "6720991e-aa77-4d07-9925-8255163f6899",
   "metadata": {},
   "outputs": [],
   "source": []
  }
 ],
 "metadata": {
  "kernelspec": {
   "display_name": "Python 3 (ipykernel)",
   "language": "python",
   "name": "python3"
  },
  "language_info": {
   "codemirror_mode": {
    "name": "ipython",
    "version": 3
   },
   "file_extension": ".py",
   "mimetype": "text/x-python",
   "name": "python",
   "nbconvert_exporter": "python",
   "pygments_lexer": "ipython3",
   "version": "3.10.8"
  }
 },
 "nbformat": 4,
 "nbformat_minor": 5
}
