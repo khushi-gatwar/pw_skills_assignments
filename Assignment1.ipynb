{
 "cells": [
  {
   "cell_type": "markdown",
   "id": "03a0477a-08b2-47d0-a58c-86f4ba098aca",
   "metadata": {
    "jp-MarkdownHeadingCollapsed": true,
    "tags": []
   },
   "source": [
    "# Question(1)"
   ]
  },
  {
   "cell_type": "markdown",
   "id": "e76ac58c-3ae9-4204-9cbd-23a95da14f8b",
   "metadata": {},
   "source": [
    "string"
   ]
  },
  {
   "cell_type": "code",
   "execution_count": 2,
   "id": "896ecfc7-e1d3-4202-900e-cc8fd478240f",
   "metadata": {},
   "outputs": [],
   "source": [
    "s = \"hello\""
   ]
  },
  {
   "cell_type": "code",
   "execution_count": 10,
   "id": "39a0f8f0-fab0-43a0-8991-0aeadf9bbbed",
   "metadata": {},
   "outputs": [
    {
     "data": {
      "text/plain": [
       "str"
      ]
     },
     "execution_count": 10,
     "metadata": {},
     "output_type": "execute_result"
    }
   ],
   "source": [
    "type(s)"
   ]
  },
  {
   "cell_type": "markdown",
   "id": "6f957e3a-c57e-4ca3-89c7-5c2ae3d68d04",
   "metadata": {},
   "source": [
    "list"
   ]
  },
  {
   "cell_type": "code",
   "execution_count": 4,
   "id": "23fcf9a1-0df8-4ab4-bb21-a011e817c766",
   "metadata": {},
   "outputs": [],
   "source": [
    "lst = [1,2,45,\"anything\"]"
   ]
  },
  {
   "cell_type": "code",
   "execution_count": 11,
   "id": "2bd1c26a-bfcb-400d-9f40-9a8d4f23401e",
   "metadata": {},
   "outputs": [
    {
     "data": {
      "text/plain": [
       "list"
      ]
     },
     "execution_count": 11,
     "metadata": {},
     "output_type": "execute_result"
    }
   ],
   "source": [
    "type(lst)"
   ]
  },
  {
   "cell_type": "markdown",
   "id": "8d3d6249-3581-4966-8186-3a7105273b50",
   "metadata": {},
   "source": [
    "float"
   ]
  },
  {
   "cell_type": "code",
   "execution_count": 6,
   "id": "6ba8f1cf-6614-483c-be08-c52dd31c1c81",
   "metadata": {},
   "outputs": [],
   "source": [
    "f = 4.05"
   ]
  },
  {
   "cell_type": "code",
   "execution_count": 13,
   "id": "caa7089c-c108-4909-8f61-ff51ed6823d8",
   "metadata": {},
   "outputs": [
    {
     "data": {
      "text/plain": [
       "float"
      ]
     },
     "execution_count": 13,
     "metadata": {},
     "output_type": "execute_result"
    }
   ],
   "source": [
    "type(f)"
   ]
  },
  {
   "cell_type": "raw",
   "id": "a93e7912-39d6-4b1c-adb7-6a85720ae165",
   "metadata": {},
   "source": [
    "tuple"
   ]
  },
  {
   "cell_type": "code",
   "execution_count": 8,
   "id": "936f3064-10f8-4b82-a230-6e6e243f863a",
   "metadata": {},
   "outputs": [],
   "source": [
    "t = (1,2,3,45)"
   ]
  },
  {
   "cell_type": "code",
   "execution_count": 14,
   "id": "c47bd99e-3b6b-4f6a-b1c6-de641bba315d",
   "metadata": {},
   "outputs": [
    {
     "data": {
      "text/plain": [
       "tuple"
      ]
     },
     "execution_count": 14,
     "metadata": {},
     "output_type": "execute_result"
    }
   ],
   "source": [
    "type(t)"
   ]
  },
  {
   "cell_type": "markdown",
   "id": "77738e29-e603-41b6-ac09-face833d29c7",
   "metadata": {
    "tags": []
   },
   "source": [
    "# Q2. Given are some following variables containing data:"
   ]
  },
  {
   "cell_type": "markdown",
   "id": "fbe1bba8-c1ae-4cc7-bb23-6d3d59b0fef1",
   "metadata": {},
   "source": [
    "(i) var1 = ‘ ‘\n",
    "(ii) var2 = ‘[ DS , ML , Python]’\n",
    "(iii) var3 = [ ‘DS’ , ’ML’ , ‘Python’ ]\n",
    "(iv) var4 = 1."
   ]
  },
  {
   "cell_type": "markdown",
   "id": "5534ff3d-cb72-4910-b592-394602b04567",
   "metadata": {},
   "source": [
    "## Answer:"
   ]
  },
  {
   "cell_type": "markdown",
   "id": "a62c2beb-c9fd-46d9-8e86-20d78c453363",
   "metadata": {},
   "source": [
    "(i) string\n",
    "(ii) string\n",
    "(iii) list\n",
    "(iv) integer"
   ]
  },
  {
   "cell_type": "markdown",
   "id": "888dd8a3-815c-4602-9975-0fd97156f1af",
   "metadata": {
    "tags": []
   },
   "source": [
    "# Q3. Explain the use of the following operators using an example:"
   ]
  },
  {
   "cell_type": "markdown",
   "id": "bc9c31b0-b487-45f1-b176-34cbc3ecb873",
   "metadata": {},
   "source": [
    "(i) / -> divide\n",
    "(ii) % -> modulus\n",
    "(iii) // -> floor\n",
    "(iv) ** -> exponent"
   ]
  },
  {
   "cell_type": "code",
   "execution_count": null,
   "id": "aedf0b61-fcf6-42cf-9f7b-231de5974572",
   "metadata": {},
   "outputs": [],
   "source": [
    "a = int(input(\"Enter 1st number: \"))\n",
    "b = int(input(\"Enter 2nd number: \"))\n",
    "\n",
    "print(\"a divided by b = \" ,a/b)\n",
    "print(\"a modulo b = \" ,a%b)\n",
    "print(\"floor = \" ,a//b)\n",
    "print(\"a to the power b = \" ,a**b)"
   ]
  },
  {
   "cell_type": "markdown",
   "id": "c89a6a78-4319-4a80-be5e-f7bb7c3a6c64",
   "metadata": {
    "tags": []
   },
   "source": [
    "# Q4. Create a list of length 10 of your choice containing multiple types of data. Using for loop print the element and its data type."
   ]
  },
  {
   "cell_type": "code",
   "execution_count": 35,
   "id": "feae4ada-4dfd-42fa-a1e6-89e2cab1712b",
   "metadata": {},
   "outputs": [],
   "source": [
    "lst = [1,2,4.5,'a','abc',1 + 2j,\"this is a list\",8,9.9,100]"
   ]
  },
  {
   "cell_type": "code",
   "execution_count": 36,
   "id": "bda9c68b-f594-45e6-9557-9895c1924a84",
   "metadata": {},
   "outputs": [
    {
     "name": "stdout",
     "output_type": "stream",
     "text": [
      "Element:  1 \n",
      "Type:  <class 'int'>\n",
      "Element:  2 \n",
      "Type:  <class 'int'>\n",
      "Element:  4.5 \n",
      "Type:  <class 'float'>\n",
      "Element:  a \n",
      "Type:  <class 'str'>\n",
      "Element:  abc \n",
      "Type:  <class 'str'>\n",
      "Element:  (1+2j) \n",
      "Type:  <class 'complex'>\n",
      "Element:  this is a list \n",
      "Type:  <class 'str'>\n",
      "Element:  8 \n",
      "Type:  <class 'int'>\n",
      "Element:  9.9 \n",
      "Type:  <class 'float'>\n",
      "Element:  100 \n",
      "Type:  <class 'int'>\n"
     ]
    }
   ],
   "source": [
    "for i in lst:\n",
    "    print(\"Element: \",i,\"\\nType: \",type(i))"
   ]
  },
  {
   "cell_type": "markdown",
   "id": "aae46550-20c1-4cc7-b9b9-e1235a07df1c",
   "metadata": {
    "tags": []
   },
   "source": [
    "# Q5. Using a while loop, verify if the number A is purely divisible by number B and if so then how manytimes it can be divisible."
   ]
  },
  {
   "cell_type": "code",
   "execution_count": 5,
   "id": "0d8b4e5a-5cc6-4767-bee1-06805d9581be",
   "metadata": {},
   "outputs": [
    {
     "name": "stdin",
     "output_type": "stream",
     "text": [
      "Enter the value of number A:  18\n",
      "Enter the value of number B:  3\n"
     ]
    },
    {
     "name": "stdout",
     "output_type": "stream",
     "text": [
      "Number A is divisible by number B 2 times.\n"
     ]
    }
   ],
   "source": [
    "A = int(input(\"Enter the value of number A: \"))\n",
    "B = int(input(\"Enter the value of number B: \"))\n",
    "\n",
    "count = 0  # To keep track of the number of divisions\n",
    "\n",
    "while A % B == 0:\n",
    "    count += 1\n",
    "    A //= B  # Divide A by B and update the value of A\n",
    "\n",
    "print(f\"Number A is divisible by number B {count} times.\")"
   ]
  },
  {
   "cell_type": "markdown",
   "id": "0c45c852-6271-4f1d-a933-81c935714ca5",
   "metadata": {
    "jp-MarkdownHeadingCollapsed": true,
    "tags": []
   },
   "source": [
    "# Q6. Create a list containing 25 int type data. Using for loop and if-else condition print if the element is divisible by 3 or not."
   ]
  },
  {
   "cell_type": "code",
   "execution_count": 13,
   "id": "c8833247-af0b-4661-b165-ca6ffa6f950d",
   "metadata": {},
   "outputs": [],
   "source": [
    "l = []\n",
    "\n",
    "for j in range(25):\n",
    "    l.append(j+1)"
   ]
  },
  {
   "cell_type": "code",
   "execution_count": 14,
   "id": "8ba776e0-0b23-43fd-b0de-74641433762d",
   "metadata": {},
   "outputs": [
    {
     "name": "stdout",
     "output_type": "stream",
     "text": [
      "Not divisible by 3\n",
      "Not divisible by 3\n",
      "Element is divisible by 3\n",
      "Not divisible by 3\n",
      "Not divisible by 3\n",
      "Element is divisible by 3\n",
      "Not divisible by 3\n",
      "Not divisible by 3\n",
      "Element is divisible by 3\n",
      "Not divisible by 3\n",
      "Not divisible by 3\n",
      "Element is divisible by 3\n",
      "Not divisible by 3\n",
      "Not divisible by 3\n",
      "Element is divisible by 3\n",
      "Not divisible by 3\n",
      "Not divisible by 3\n",
      "Element is divisible by 3\n",
      "Not divisible by 3\n",
      "Not divisible by 3\n",
      "Element is divisible by 3\n",
      "Not divisible by 3\n",
      "Not divisible by 3\n",
      "Element is divisible by 3\n",
      "Not divisible by 3\n"
     ]
    }
   ],
   "source": [
    "for i in l:\n",
    "    if i%3 == 0:\n",
    "        print(\"Element is divisible by 3\")\n",
    "    else:\n",
    "        print(\"Not divisible by 3\")"
   ]
  },
  {
   "cell_type": "markdown",
   "id": "13f0c063-f6d1-48ac-979a-f973090570bb",
   "metadata": {},
   "source": [
    "# Q7. What do you understand about mutable and immutable data types? Give examples for both showing this property."
   ]
  },
  {
   "cell_type": "markdown",
   "id": "d3c74101-2c96-496e-96ad-80304e46e535",
   "metadata": {
    "jp-MarkdownHeadingCollapsed": true,
    "tags": []
   },
   "source": [
    "## mutable data types"
   ]
  },
  {
   "cell_type": "markdown",
   "id": "0ddbf71c-25c9-4a04-9eb8-0e0996b25b2e",
   "metadata": {},
   "source": [
    "Mutable data types are those whose value can be changed/modified in-place after they have been created.\n",
    "\n",
    "Mutable data types in python:\n",
    "1: List\n",
    "2: Dictionary\n",
    "3: Set\n"
   ]
  },
  {
   "cell_type": "code",
   "execution_count": 19,
   "id": "bddc7c10-96e5-4834-9c52-673c8f5c571a",
   "metadata": {},
   "outputs": [],
   "source": [
    "l = [1,2,3,45,6,0]"
   ]
  },
  {
   "cell_type": "code",
   "execution_count": 20,
   "id": "f0164b0f-f958-455a-887e-e20077233089",
   "metadata": {},
   "outputs": [],
   "source": [
    "l[3] = 4"
   ]
  },
  {
   "cell_type": "code",
   "execution_count": 21,
   "id": "1279e02e-ae2f-44fb-8f7c-6bcdbdd130c1",
   "metadata": {},
   "outputs": [
    {
     "data": {
      "text/plain": [
       "[1, 2, 3, 4, 6, 0]"
      ]
     },
     "execution_count": 21,
     "metadata": {},
     "output_type": "execute_result"
    }
   ],
   "source": [
    "l"
   ]
  },
  {
   "cell_type": "markdown",
   "id": "1734c8b8-23fc-4877-a079-c924d81fa131",
   "metadata": {
    "jp-MarkdownHeadingCollapsed": true,
    "tags": []
   },
   "source": [
    "## immutable data types"
   ]
  },
  {
   "cell_type": "markdown",
   "id": "3f61e2a3-133f-4e69-a5a4-ab4e1d43f5a4",
   "metadata": {},
   "source": [
    "Immutable data types are those which cannot be changed after they have been created.\n",
    "\n",
    "Immutable data types in python:\n",
    "1: tuple\n",
    "2: string"
   ]
  },
  {
   "cell_type": "code",
   "execution_count": 22,
   "id": "6a201bfd-776a-4c1a-bcd8-31691693b363",
   "metadata": {},
   "outputs": [],
   "source": [
    "t = (1,2,3,5,5,6)"
   ]
  },
  {
   "cell_type": "code",
   "execution_count": 23,
   "id": "33ba6fd0-48b2-4218-a9c9-b543cb8b980d",
   "metadata": {},
   "outputs": [
    {
     "ename": "TypeError",
     "evalue": "'tuple' object does not support item assignment",
     "output_type": "error",
     "traceback": [
      "\u001b[0;31m---------------------------------------------------------------------------\u001b[0m",
      "\u001b[0;31mTypeError\u001b[0m                                 Traceback (most recent call last)",
      "Cell \u001b[0;32mIn[23], line 1\u001b[0m\n\u001b[0;32m----> 1\u001b[0m \u001b[43mt\u001b[49m\u001b[43m[\u001b[49m\u001b[38;5;241;43m3\u001b[39;49m\u001b[43m]\u001b[49m \u001b[38;5;241m=\u001b[39m \u001b[38;5;241m4\u001b[39m\n",
      "\u001b[0;31mTypeError\u001b[0m: 'tuple' object does not support item assignment"
     ]
    }
   ],
   "source": [
    "#t[3] = 4 \n",
    "# this will throw error because tuple data type is immutable"
   ]
  },
  {
   "cell_type": "code",
   "execution_count": null,
   "id": "be6bb4b1-4b1f-444f-a21e-f6f819a36f21",
   "metadata": {},
   "outputs": [],
   "source": []
  }
 ],
 "metadata": {
  "kernelspec": {
   "display_name": "Python 3 (ipykernel)",
   "language": "python",
   "name": "python3"
  },
  "language_info": {
   "codemirror_mode": {
    "name": "ipython",
    "version": 3
   },
   "file_extension": ".py",
   "mimetype": "text/x-python",
   "name": "python",
   "nbconvert_exporter": "python",
   "pygments_lexer": "ipython3",
   "version": "3.10.8"
  }
 },
 "nbformat": 4,
 "nbformat_minor": 5
}
