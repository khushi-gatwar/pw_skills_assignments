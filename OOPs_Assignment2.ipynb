{
 "cells": [
  {
   "cell_type": "markdown",
   "id": "45611b74-953d-43fd-b595-d3c4d0926c68",
   "metadata": {},
   "source": [
    "# Q1. What is Abstraction in OOps? Explain with an example."
   ]
  },
  {
   "cell_type": "markdown",
   "id": "4a77c28c-1f62-4855-bc02-bef37fed5607",
   "metadata": {},
   "source": [
    "Abstraction is one of the four pillars of Object-Oriented Programming (OOP) and refers to the process of simplifying complex real-world entities into their essential characteristics. It allows you to represent only the relevant attributes and behaviors of an object while hiding unnecessary details from the user. In other words, abstraction focuses on what an object does rather than how it does it."
   ]
  },
  {
   "cell_type": "markdown",
   "id": "4119c34e-1cda-42bd-9888-3e97b00e5316",
   "metadata": {},
   "source": [
    "# Q2. Differentiate between Abstraction and Encapsulation. Explain with an example."
   ]
  },
  {
   "cell_type": "markdown",
   "id": "80300591-18ae-4843-b4b5-1606fd7cf2fc",
   "metadata": {},
   "source": [
    "## Abstraction:\n",
    "Abstraction is the process of simplifying complex objects by exposing only relevant attributes and behaviors while hiding unnecessary details.\n",
    "It focuses on \"what\" an object does rather than \"how\" it does it, providing a high-level view of the object's essential characteristics.\n",
    "Abstraction is achieved using abstract classes and abstract methods, which define a common interface for a group of related objects.\n",
    "\n",
    "## Encapsulation:\n",
    "\n",
    "Encapsulation is the process of bundling data (attributes) and methods (functions) that operate on that data within a single unit called a class.\n",
    "It hides the internal implementation details of a class from the outside world, making the class's internal state inaccessible directly.\n",
    "Encapsulation protects the integrity of the data by controlling access to it through methods (getters and setters) and prevents unauthorized changes."
   ]
  },
  {
   "cell_type": "code",
   "execution_count": 1,
   "id": "c9c0d00b-3915-4bc5-9438-e05257d30659",
   "metadata": {},
   "outputs": [
    {
     "name": "stdout",
     "output_type": "stream",
     "text": [
      "Area of Rectangle: 24\n",
      "Area of Square: 25\n"
     ]
    }
   ],
   "source": [
    "# Abstraction\n",
    "from abc import ABC, abstractmethod\n",
    "\n",
    "# Abstract class\n",
    "class Shape(ABC):\n",
    "    @abstractmethod\n",
    "    def area(self):\n",
    "        pass\n",
    "\n",
    "# Encapsulation\n",
    "class Rectangle:\n",
    "    def __init__(self, length, width):\n",
    "        self._length = length  # Encapsulated attribute \n",
    "        self._width = width    # Encapsulated attribute \n",
    "\n",
    "    def get_area(self):\n",
    "        return self._length * self._width\n",
    "\n",
    "\n",
    "class Square(Shape):\n",
    "    def __init__(self, side):\n",
    "        self._side = side  # Encapsulated attribute \n",
    "\n",
    "    def area(self):\n",
    "        return self._side * self._side\n",
    "\n",
    "\n",
    "rectangle = Rectangle(4, 6)\n",
    "square = Square(5)\n",
    "\n",
    "\n",
    "print(\"Area of Rectangle:\", rectangle.get_area())  \n",
    "print(\"Area of Square:\", square.area())  \n"
   ]
  },
  {
   "cell_type": "markdown",
   "id": "e0590265-427e-4d5c-88a7-3291f5f42a0f",
   "metadata": {},
   "source": [
    "## Q3. What is abc module in python? Why is it used?"
   ]
  },
  {
   "cell_type": "markdown",
   "id": "3a00930c-1844-4bc9-b3b4-e351ebb5608d",
   "metadata": {},
   "source": [
    "In Python, the abc module stands for \"Abstract Base Classes.\" It provides tools for working with abstract classes and abstract methods, facilitating the implementation of abstract data types and abstract interfaces."
   ]
  },
  {
   "cell_type": "markdown",
   "id": "3ac8841c-a8ed-424a-808d-9720b198d9d2",
   "metadata": {
    "jp-MarkdownHeadingCollapsed": true,
    "tags": []
   },
   "source": [
    "## Q4. How can we achieve data abstraction?"
   ]
  },
  {
   "cell_type": "markdown",
   "id": "23bba5b5-f427-4db9-840c-6406a4ce2493",
   "metadata": {},
   "source": [
    "To achieve data abstraction in Python, follow these steps:\n",
    "\n",
    "# Define a Class: \n",
    "Create a class that represents the abstract data type. The class should contain attributes to store the data and methods to operate on that data. Decide which attributes and methods should be exposed to the outside world and which should be hidden as implementation details.\n",
    "\n",
    "# Use Access Modifiers: \n",
    "Use access modifiers like leading underscores (_) to indicate that certain attributes and methods are intended for internal use within the class only. Attributes and methods with leading underscores are considered as \"protected\" and should not be accessed directly from outside the class.\n",
    "\n",
    "# Provide Public Methods: \n",
    "Create public methods (also known as accessor methods or getters) to allow controlled access to the attributes from outside the class. Public methods should return the values of the attributes or perform specific operations on the attributes based on the requirements."
   ]
  },
  {
   "cell_type": "markdown",
   "id": "ade09236-89fd-4986-a2fb-4184d2d57c7d",
   "metadata": {},
   "source": [
    "## Q5. Can we create an instance of an abstract class? Explain your answer."
   ]
  },
  {
   "cell_type": "markdown",
   "id": "fe379158-a3ed-4309-a98a-fe826c9b5c88",
   "metadata": {},
   "source": [
    "No, we cannot create an instance of an abstract class directly in Python.\n",
    "An abstract class is a class that contains one or more abstract methods, which are methods declared in the abstract class but have no implementation. An abstract class serves as a blueprint for other classes and cannot be instantiated because it lacks complete implementations for its abstract methods."
   ]
  },
  {
   "cell_type": "code",
   "execution_count": null,
   "id": "08682cb0-5dea-46c8-a86a-e1d6bba89ee8",
   "metadata": {},
   "outputs": [],
   "source": []
  }
 ],
 "metadata": {
  "kernelspec": {
   "display_name": "Python 3 (ipykernel)",
   "language": "python",
   "name": "python3"
  },
  "language_info": {
   "codemirror_mode": {
    "name": "ipython",
    "version": 3
   },
   "file_extension": ".py",
   "mimetype": "text/x-python",
   "name": "python",
   "nbconvert_exporter": "python",
   "pygments_lexer": "ipython3",
   "version": "3.10.8"
  }
 },
 "nbformat": 4,
 "nbformat_minor": 5
}
