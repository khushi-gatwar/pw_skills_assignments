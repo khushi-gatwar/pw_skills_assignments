{
 "cells": [
  {
   "cell_type": "markdown",
   "id": "438fe6b8-05da-4bdc-b3a6-84aaf24f323d",
   "metadata": {},
   "source": [
    "# Q1. What is a database? Differentiate between SQL and NoSQL databases."
   ]
  },
  {
   "cell_type": "markdown",
   "id": "78b2e9e8-fb99-4824-8cf1-10cb6205f6d1",
   "metadata": {},
   "source": [
    "A database is a structured collection of data that is organized and stored in a way that allows for efficient data retrieval, manipulation, and management. Databases are used to store large amounts of structured or unstructured data, and they provide mechanisms for querying and accessing the stored information.\n",
    "\n",
    "## SQL(Structured Query Language)\n",
    "SQL databases are based on a structured approach where data is stored in the form of tables. These databases are also referred to as relational databases because they establish relationships between tables using keys (usually primary and foreign keys). \n",
    "\n",
    "Examples of SQL databases include MySQL, Oracle Database, Microsoft SQL Server, and SQLite.\n",
    "\n",
    "## NOSQL(Not Only SQL)\n",
    "NoSQL databases, as the name suggests, do not rely on the traditional structured table-based schema used by SQL databases. Instead, they offer more flexibility by allowing data to be stored in various formats like key-value pairs, documents, column-family, or graphs. NoSQL databases are known for their ability to handle large amounts of unstructured or semi-structured data, making them well-suited for modern applications where data can vary significantly in structure.\n",
    "\n",
    "Examples of NoSQL databases include MongoDB, Cassandra, Redis, Couchbase, and Neo4j.\n"
   ]
  },
  {
   "cell_type": "markdown",
   "id": "4a66fa4d-f0c5-4a8e-9b04-8e4f40c05eb7",
   "metadata": {},
   "source": [
    "# Q2. What is DDL? Explain why CREATE, DROP, ALTER, and TRUNCATE are used with an example."
   ]
  },
  {
   "cell_type": "markdown",
   "id": "12f53d1d-cf97-4207-8df9-1b71a418e576",
   "metadata": {},
   "source": [
    "## DDL -> Data Definition Language\n",
    "DDL is a subset of SQL (Structured Query Language) used to define and manage the structure of a database and its objects. DDL statements are used to create, modify, and delete database objects such as tables, indexes, views, and schemas. DDL statements do not deal with the actual data manipulation; they focus on defining the database's structure and organization.\n",
    "### DDL Commands:\n",
    "- CREATE\n",
    "- ALTER\n",
    "- DROP\n",
    "- TRUNCATE\n",
    "\n",
    "### CREATE\n",
    "The CREATE statement is used to create new database objects like tables, views, indexes, and schemas.\n",
    "#### Example: \n",
    "CREATE TABLE Students (\n",
    "    ID INT,\n",
    "    Name VARCHAR(50)\n",
    ");\n",
    "\n",
    "### ALTER\n",
    "The ALTER statement is used to modify the structure of existing database objects, such as adding or dropping columns, changing data types, or renaming objects.\n",
    "#### Example: \n",
    "ALTER TABLE Students\n",
    "ADD Email VARCHAR(100);\n",
    "\n",
    "### DROP\n",
    "The DROP statement is used to delete database objects like tables, views, and indexes.\n",
    "#### Example: \n",
    "DROP TABLE Students;\n",
    "\n",
    "### TRUNCATE\n",
    "The TRUNCATE statement is used to remove all rows from a table while retaining the table's structure. It is faster than using DELETE for removing all records.\n",
    "#### Example: \n",
    "TRUNCATE TABLE Students;"
   ]
  },
  {
   "cell_type": "markdown",
   "id": "e5f465d6-6480-4e58-9df3-38336ee612ee",
   "metadata": {},
   "source": [
    "# Q3. What is DML? Explain INSERT, UPDATE, and DELETE with an example."
   ]
  },
  {
   "cell_type": "markdown",
   "id": "928657a7-5868-4c46-b0dc-d4b1aecf2999",
   "metadata": {},
   "source": [
    "## DML -> Data Manipulation Language\n",
    "DML is a subset of SQL (Structured Query Language) used to interact with and manipulate the data stored within a database. DML statements are used to insert, update, and delete data in database tables. Unlike DDL (Data Definition Language), which deals with defining the structure of the database, DML deals with modifying and querying the data within the database.\n",
    "\n",
    "### DML Commands:\n",
    "- INSERT: The INSERT statement is used to add new records (rows) to a table.\n",
    "   ##### INSERT INTO Students (ID, Name, Age)VALUES (1, 'John Doe', 20);\n",
    "        \n",
    "- DELETE: The DELETE statement is used to remove records from a table.\n",
    "  ##### DELETE FROM Students WHERE ID = 1;\n",
    "\n",
    "- UPDATE: The UPDATE statement is used to modify existing records in a table.\n",
    "  ##### UPDATE Students SET Age = 21 WHERE ID = 1;\n",
    "\n",
    "\n"
   ]
  },
  {
   "cell_type": "markdown",
   "id": "7856703c-6a0f-4821-82dc-691c42a2a4d2",
   "metadata": {},
   "source": [
    "# Q4. What is DQL? Explain SELECT with an example."
   ]
  },
  {
   "cell_type": "markdown",
   "id": "1ba176ef-6bff-4833-a8a7-73c236f84053",
   "metadata": {},
   "source": [
    "## DQL stands for Data Query Language\n",
    "DQL is a subset of SQL (Structured Query Language) used to retrieve and manipulate data from a database. DQL is primarily concerned with querying and fetching data from the database tables. The most commonly used DQL statement is the SELECT statement, which is used to retrieve data from one or more tables based on specified criteria.\n",
    "\n",
    "### SELECT:\n",
    "The SELECT statement is used to retrieve data from one or more tables in a database. It allows you to specify which columns you want to retrieve, the table(s) you want to query, and any filtering or sorting conditions.\n",
    "\n",
    "- Example:\n",
    "SELECT ID, Name\n",
    "FROM Students;"
   ]
  },
  {
   "cell_type": "markdown",
   "id": "87bf6117-fa21-4976-89b4-34c59071021c",
   "metadata": {},
   "source": [
    "# Q5. Explain Primary Key and Foreign Key."
   ]
  },
  {
   "cell_type": "markdown",
   "id": "69ca5f59-b5a9-4148-b8bf-2238e1d6f1f6",
   "metadata": {},
   "source": [
    "## Primary Key:\n",
    "\n",
    "A primary key is a field or a combination of fields in a database table that uniquely identifies each record (row) in that table. It ensures the integrity and uniqueness of the data within the table. In simple terms, a primary key is a special attribute that distinguishes one record from another. Each table in a relational database can have only one primary key.\n",
    "\n",
    "### The primary key has the following characteristics:\n",
    "\n",
    "- Uniqueness: Each value in the primary key column(s) must be unique across all records in the table.\n",
    "\n",
    "- Non-null: The primary key value cannot be null (empty) for any record.\n",
    "\n",
    "- Fixed: The primary key value should be unchangeable after insertion.\n",
    "\n",
    "## Foreign Key:\n",
    "\n",
    "A foreign key is a field in a database table that is used to establish a link between the data in two tables. It creates a relationship between the tables by referencing the primary key of another table. The foreign key column in one table is typically used to point to the primary key column in another table, creating a relationship between the two.\n",
    "\n",
    "### Foreign keys serve the following purposes:\n",
    "\n",
    "- Maintaining Referential Integrity: A foreign key ensures that the data being inserted or updated in one table corresponds to valid data in another table. It helps maintain data consistency and prevents orphaned or disconnected records.\n",
    "\n",
    "- Enforcing Relationships: Foreign keys enforce relationships between tables, reflecting real-world associations between entities.\n",
    "\n",
    "- Joins: Foreign keys enable efficient querying by allowing tables to be joined based on the relationship between them."
   ]
  },
  {
   "cell_type": "markdown",
   "id": "c489b124-a515-4ce8-b00e-796f092c0408",
   "metadata": {},
   "source": [
    "# Q6. Write a python code to connect MySQL to python. Explain the cursor() and execute() method."
   ]
  },
  {
   "cell_type": "code",
   "execution_count": null,
   "id": "2d319d58-6252-49fa-81ad-00b8c68a06cb",
   "metadata": {},
   "outputs": [],
   "source": [
    "    import mysql.connector\n",
    "    \n",
    "    mydb = mysql.connector.connect(\n",
    "        host = \"localhost\",\n",
    "        user = \"abc\",\n",
    "        password = \"password\"\n",
    "    )\n",
    "    \n",
    "    mycursor = mydb.cursor()\n",
    "    \n",
    "    mycursor.execute(\"Query\")\n",
    "    \n",
    "    mydb.close()\n",
    "    "
   ]
  },
  {
   "cell_type": "markdown",
   "id": "5561e407-165c-4707-8d10-9bfd5c63c9be",
   "metadata": {},
   "source": [
    "## cursor():\n",
    "The cursor() method creates a cursor object that allows you to interact with the database. A cursor is like a control structure that enables you to execute SQL queries and fetch results from the database. It acts as a pointer to a specific location in the result set.\n",
    "\n",
    "## execute(query):\n",
    "The execute() method is used to execute an SQL query on the database using the cursor object. You pass the SQL query as an argument to this method. It performs various operations like creating tables, inserting data, updating records, and more. After executing the query, you often need to call commit() on the database connection to make the changes permanent."
   ]
  },
  {
   "cell_type": "markdown",
   "id": "73d35ab2-2f46-46b2-916c-7a5ed2fb8a93",
   "metadata": {},
   "source": [
    "# Q7. Give the order of execution of SQL clauses in an SQL query."
   ]
  },
  {
   "cell_type": "markdown",
   "id": "0713ad9b-37dd-4713-bf1b-2ba47b9582e1",
   "metadata": {},
   "source": [
    "In a standard SQL query, the clauses are executed in the following order:\n",
    "\n",
    "- SELECT: This clause specifies which columns you want to retrieve from the database.\n",
    "\n",
    "- FROM: This clause specifies the table or tables from which you want to retrieve the data.\n",
    "\n",
    "- JOIN: If you are joining multiple tables, the join conditions are applied at this stage.\n",
    "\n",
    "- WHERE: This clause filters the rows from the selected table(s) based on specified conditions.\n",
    "\n",
    "- GROUP BY: If you're using aggregation functions like COUNT, SUM, AVG, etc., this clause is used to group the data by specific columns.\n",
    "\n",
    "- HAVING: Similar to the WHERE clause, HAVING filters the rows after the GROUP BY clause has been applied.\n",
    "\n",
    "- ORDER BY: This clause sorts the result set based on the specified columns and sorting order."
   ]
  },
  {
   "cell_type": "code",
   "execution_count": null,
   "id": "df4e32f9-bdf2-43c5-b515-61b3da15ce9a",
   "metadata": {},
   "outputs": [],
   "source": []
  }
 ],
 "metadata": {
  "kernelspec": {
   "display_name": "Python 3 (ipykernel)",
   "language": "python",
   "name": "python3"
  },
  "language_info": {
   "codemirror_mode": {
    "name": "ipython",
    "version": 3
   },
   "file_extension": ".py",
   "mimetype": "text/x-python",
   "name": "python",
   "nbconvert_exporter": "python",
   "pygments_lexer": "ipython3",
   "version": "3.10.8"
  }
 },
 "nbformat": 4,
 "nbformat_minor": 5
}
