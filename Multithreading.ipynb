{
 "cells": [
  {
   "cell_type": "markdown",
   "id": "c1f28def-8d49-4e4f-99e5-3bd766a27240",
   "metadata": {
    "jp-MarkdownHeadingCollapsed": true,
    "tags": []
   },
   "source": [
    "# Q1. What is multithreading in Python? Why is it used? Name the module used to handle threads in Python. Why is the threading module used?"
   ]
  },
  {
   "cell_type": "markdown",
   "id": "37d7df11-f102-4e95-96ee-c35495f7857a",
   "metadata": {},
   "source": [
    "Multithreading is a concurrent execution model where multiple threads run independently within the same process. Each thread represents a separate flow of control, and they share the same resources like memory space but have their own program counter, stack, and local variables.\n",
    "\n",
    "Multithreading is used to achieve parallelism and improve the performance of a program by executing multiple tasks concurrently. In Python, it is particularly useful for I/O-bound and network-bound applications where threads can perform non-blocking operations, allowing other threads to run while waiting for I/O.\n",
    "\n",
    "'threading' module is used in python to handle threads."
   ]
  },
  {
   "cell_type": "markdown",
   "id": "a6065178-1f3a-4a65-8841-d81be8b903e6",
   "metadata": {
    "jp-MarkdownHeadingCollapsed": true,
    "tags": []
   },
   "source": [
    "# Q2. Why is the threading module used? Write the use of the following functions (activeCount, currentThread, enumerate)."
   ]
  },
  {
   "cell_type": "markdown",
   "id": "7f9ad838-518f-45c1-bd08-94bd0dec19b3",
   "metadata": {},
   "source": [
    "The threading module in Python provides a way to create and manage threads. It abstracts the complexities of thread management, making it easier to work with multithreading in Python.\n",
    "\n",
    "- activeCount(): Returns the number of Thread objects currently alive. This includes both started and not started threads.\n",
    "- currentThread(): Returns the current Thread object, corresponding to the caller's thread of control.\n",
    "- enumerate(): Returns a list of all Thread objects currently alive. The list includes daemonic threads, dummy thread objects created by current_thread(), and the main thread."
   ]
  },
  {
   "cell_type": "markdown",
   "id": "3b3ba781-e7fe-431d-96e0-de9d4774739d",
   "metadata": {
    "jp-MarkdownHeadingCollapsed": true,
    "tags": []
   },
   "source": [
    "# Q3. Explain the following functions (run, start, join, isAlive)."
   ]
  },
  {
   "cell_type": "markdown",
   "id": "df9d40ea-af8f-4ab3-a15b-7dca0848e19b",
   "metadata": {},
   "source": [
    "- run() Function:\n",
    "    This method represents the code to be executed when the thread is started. It should be overridden in the subclass.\n",
    "\n",
    "- start() Function:\n",
    "    This method starts the thread's activity. It calls the run method in a separate thread.\n",
    "\n",
    "- join() Function:\n",
    "    This method waits for the thread to complete its execution. It blocks the calling thread until the thread whose join method is called completes or until the optional timeout occurs.\n",
    "\n",
    "- isAlive() Function:\n",
    "    Returns True if the thread is alive, i.e., it has been started and has not yet completed.\n",
    "\n"
   ]
  },
  {
   "cell_type": "markdown",
   "id": "3284db96-da0a-4cdb-9493-65df32895cac",
   "metadata": {
    "jp-MarkdownHeadingCollapsed": true,
    "tags": []
   },
   "source": [
    "# Q4. Write a Python program to create two threads. Thread one must print the list of squares and thread two must print the list of cubes."
   ]
  },
  {
   "cell_type": "code",
   "execution_count": 1,
   "id": "c5c551d9-9d20-449a-923e-b9e1cf079a37",
   "metadata": {},
   "outputs": [
    {
     "name": "stdout",
     "output_type": "stream",
     "text": [
      "Square of 1: 1\n",
      "Square of 2: 4\n",
      "Square of 3: 9\n",
      "Square of 4: 16\n",
      "Square of 5: 25\n",
      "Cube of 1: 1\n",
      "Cube of 2: 8\n",
      "Cube of 3: 27\n",
      "Cube of 4: 64\n",
      "Cube of 5: 125\n",
      "Both threads have completed.\n"
     ]
    }
   ],
   "source": [
    "import threading\n",
    "\n",
    "def print_squares():\n",
    "    for i in range(1, 6):\n",
    "        print(f\"Square of {i}: {i*i}\")\n",
    "\n",
    "def print_cubes():\n",
    "    for i in range(1, 6):\n",
    "        print(f\"Cube of {i}: {i*i*i}\")\n",
    "\n",
    "# Create two threads\n",
    "thread_squares = threading.Thread(target=print_squares)\n",
    "thread_cubes = threading.Thread(target=print_cubes)\n",
    "\n",
    "# Start the threads\n",
    "thread_squares.start()\n",
    "thread_cubes.start()\n",
    "\n",
    "# Wait for both threads to finish\n",
    "thread_squares.join()\n",
    "thread_cubes.join()\n",
    "\n",
    "print(\"Both threads have completed.\")\n"
   ]
  },
  {
   "cell_type": "markdown",
   "id": "e9bc190e-a73b-4c2f-ace1-191335981a2e",
   "metadata": {},
   "source": [
    "# Q5. State advantages and disadvantages of multithreading.\n"
   ]
  },
  {
   "cell_type": "markdown",
   "id": "b912f829-26e9-45ba-b092-4d8031dfe9d9",
   "metadata": {},
   "source": [
    "- Advantages of Multithreading:\n",
    "\n",
    "    - Parallelism: Multithreading allows the execution of multiple threads in parallel, improving the overall performance of the program.\n",
    "\n",
    "    - Responsiveness: Multithreading can enhance the responsiveness of an application, especially in GUI-based programs, by keeping the user interface responsive while performing background tasks.\n",
    "\n",
    "    - Resource Sharing: Threads within the same process share the same memory space, making it easier to share data between them.\n",
    "\n",
    "    - Efficient Use of Resources: Multithreading allows efficient use of CPU resources, as threads can execute independently and concurrently.\n",
    "    \n",
    "- Disadvantages of Multithreading:\n",
    "\n",
    "    - Complexity: Multithreading introduces complexity into the program, making it harder to design, implement, and debug.\n",
    "\n",
    "    - Synchronization Issues: Threads sharing data may lead to synchronization issues and require explicit synchronization mechanisms to avoid conflicts and race conditions.\n",
    "\n",
    "    - Difficulty in Debugging: Debugging multithreaded programs can be challenging, as issues such as deadlocks and race conditions may arise.\n",
    "\n",
    "    - Potential for Increased Overhead: The overhead associated with creating and managing threads can sometimes outw"
   ]
  },
  {
   "cell_type": "markdown",
   "id": "285f29ed-1957-49bf-a050-803e6c58dd01",
   "metadata": {},
   "source": [
    "# Q6. Explain deadlocks and race conditions."
   ]
  },
  {
   "cell_type": "markdown",
   "id": "ac1e424a-c8f1-48ae-82f2-1c245d150a6f",
   "metadata": {},
   "source": [
    "\n",
    "- Deadlocks:\n",
    "\n",
    "    - A deadlock is a situation where two or more threads are unable to proceed because each is waiting for the other to release a resource.\n",
    "    - It typically occurs when multiple threads acquire locks on resources and then wait indefinitely for each other to release the locks.\n",
    "    - To prevent deadlocks, proper synchronization mechanisms, such as avoiding circular waits, should be implemented.\n",
    "\n",
    "- Race Conditions:\n",
    "\n",
    "    - A race condition occurs when the behavior of a program depends on the relative timing of events, such as the order in which threads are scheduled to run.\n",
    "    - It can lead to unpredictable and undesirable results because the outcome depends on the interleaving of operations from multiple threads.\n",
    "    - Race conditions often arise when multiple threads access shared data concurrently without proper synchronization.\n",
    "    - Synchronization mechanisms, like locks or semaphores, are used to prevent race conditions by ensuring that only one thread can access shared resources at a time.\n"
   ]
  },
  {
   "cell_type": "code",
   "execution_count": null,
   "id": "705eb90c-03d7-41b7-be01-a283d68730bd",
   "metadata": {},
   "outputs": [],
   "source": []
  }
 ],
 "metadata": {
  "kernelspec": {
   "display_name": "Python 3 (ipykernel)",
   "language": "python",
   "name": "python3"
  },
  "language_info": {
   "codemirror_mode": {
    "name": "ipython",
    "version": 3
   },
   "file_extension": ".py",
   "mimetype": "text/x-python",
   "name": "python",
   "nbconvert_exporter": "python",
   "pygments_lexer": "ipython3",
   "version": "3.10.8"
  }
 },
 "nbformat": 4,
 "nbformat_minor": 5
}
