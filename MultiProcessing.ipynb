{
 "cells": [
  {
   "cell_type": "markdown",
   "id": "b4df5adb-e77f-42eb-a994-acc00329ad3b",
   "metadata": {
    "jp-MarkdownHeadingCollapsed": true,
    "tags": []
   },
   "source": [
    "# Q1. What is multiprocessing in Python? Why is it useful?"
   ]
  },
  {
   "cell_type": "markdown",
   "id": "a7ccc855-fff5-4dac-a2b0-32be51248635",
   "metadata": {},
   "source": [
    "Multiprocessing refers to the concurrent execution of multiple processes, each having its own memory space and running independently. Unlike multithreading, multiprocessing allows for true parallelism by taking advantage of multiple CPU cores.\n",
    "\n",
    "## Usefulness of Multiprocessing:\n",
    "\n",
    "- Parallelism: Multiprocessing enables the simultaneous execution of multiple tasks, improving overall program performance by utilizing multiple CPU cores.\n",
    "\n",
    "- Resource Isolation: Each process has its own memory space, reducing the risk of data corruption and making it easier to implement parallel algorithms.\n",
    "\n",
    "- Avoiding Global Interpreter Lock (GIL): Unlike multithreading, which is subject to the GIL in CPython, multiprocessing allows for parallel execution without the limitations imposed by the GIL.\n",
    "\n",
    "- Improved Performance: For CPU-bound tasks, multiprocessing can significantly speed up the execution of tasks that can be parallelized.\n",
    "\n"
   ]
  },
  {
   "cell_type": "markdown",
   "id": "ad5ac930-5257-412f-a46a-940f197a5871",
   "metadata": {
    "jp-MarkdownHeadingCollapsed": true,
    "tags": []
   },
   "source": [
    "# Q2. What are the differences between multiprocessing and multithreading?"
   ]
  },
  {
   "cell_type": "markdown",
   "id": "497ec190-639d-4ad3-baf7-856095531cfd",
   "metadata": {},
   "source": [
    "- Memory Space:\n",
    "    - Multiprocessing: Each process has its own separate memory space.\n",
    "    - Multithreading: Threads within the same process share the same memory space.\n",
    "\n",
    "- Concurrency vs. Parallelism:\n",
    "    - Multiprocessing: Achieves true parallelism by running multiple processes concurrently, utilizing multiple CPU cores.\n",
    "    - Multithreading: Concurrent execution of threads within the same process, but not necessarily in parallel due to the Global \n",
    "    Interpreter Lock (GIL) in CPython.\n",
    "\n",
    "- GIL (Global Interpreter Lock):\n",
    "    - Multiprocessing: Each process has its own interpreter and is not affected by the GIL.\n",
    "    - Multithreading: Subject to the GIL, limiting true parallelism in CPython.\n",
    "\n",
    "- Communication:\n",
    "    - Multiprocessing: Communication between processes usually involves more overhead, typically using inter-process communication (IPC) mechanisms.\n",
    "    - Multithreading: Threads can communicate more easily through shared data structures but require proper synchronization to avoid race conditions.\n",
    "\n",
    "- Complexity:\n",
    "    - Multiprocessing: Generally involves more overhead and complexity due to separate memory spaces.\n",
    "    - Multithreading: Can be simpler to implement and debug, but may face challenges due to shared memory."
   ]
  },
  {
   "cell_type": "markdown",
   "id": "fb66b41b-051d-42a7-98fb-cba293004015",
   "metadata": {
    "jp-MarkdownHeadingCollapsed": true,
    "tags": []
   },
   "source": [
    "# Q3. Write a Python code to create a process using the multiprocessing module.\n"
   ]
  },
  {
   "cell_type": "code",
   "execution_count": 1,
   "id": "180b6483-97a6-43a3-9d32-2ee78d964938",
   "metadata": {},
   "outputs": [
    {
     "name": "stdout",
     "output_type": "stream",
     "text": [
      "This is a child process.\n",
      "Main process completed.\n"
     ]
    }
   ],
   "source": [
    "import multiprocessing\n",
    "\n",
    "def my_function():\n",
    "    print(\"This is a child process.\")\n",
    "\n",
    "if __name__ == \"__main__\":\n",
    "    # Create a process\n",
    "    my_process = multiprocessing.Process(target=my_function)\n",
    "\n",
    "    # Start the process\n",
    "    my_process.start()\n",
    "\n",
    "    # Wait for the process to finish\n",
    "    my_process.join()\n",
    "\n",
    "    print(\"Main process completed.\")\n"
   ]
  },
  {
   "cell_type": "markdown",
   "id": "e6cfaa33-ff9a-42fd-a9bb-27dfdfb417fd",
   "metadata": {
    "jp-MarkdownHeadingCollapsed": true,
    "tags": []
   },
   "source": [
    "# Q4. What is a multiprocessing pool in Python? Why is it used?"
   ]
  },
  {
   "cell_type": "markdown",
   "id": "3581d268-8837-41bf-bfd5-8fb094830eb5",
   "metadata": {},
   "source": [
    "A multiprocessing pool is a way to distribute tasks across multiple processes. The multiprocessing.Pool class provides a convenient interface for parallelizing the execution of a function across a pool of worker processes.\n",
    "\n",
    "## Uses of Multiprocessing Pool:\n",
    "\n",
    "- Parallel Execution: The pool allows multiple processes to work on different tasks simultaneously, achieving parallelism and improving performance for tasks that can be parallelized.\n",
    "\n",
    "- Load Balancing: The pool automatically distributes tasks among available worker processes, balancing the workload.\n",
    "\n",
    "- Simplified Parallelization: The pool abstracts away the complexity of managing individual processes and provides a high-level interface for parallel execution.\n",
    "\n"
   ]
  },
  {
   "cell_type": "markdown",
   "id": "965b4183-9ffa-4c1b-888c-c5a70f1fb091",
   "metadata": {
    "jp-MarkdownHeadingCollapsed": true,
    "tags": []
   },
   "source": [
    "# Q5. How can we create a pool of worker processes in Python using the multiprocessing module?"
   ]
  },
  {
   "cell_type": "code",
   "execution_count": 2,
   "id": "546021fc-e894-4bb6-9e7d-917869d046d2",
   "metadata": {},
   "outputs": [
    {
     "name": "stdout",
     "output_type": "stream",
     "text": [
      "Results: [1, 4, 9, 16, 25]\n"
     ]
    }
   ],
   "source": [
    "import multiprocessing\n",
    "\n",
    "def square(x):\n",
    "    return x **2\n",
    "\n",
    "if __name__ == \"__main__\":\n",
    "    # Create a multiprocessing pool with 3 worker processes\n",
    "    with multiprocessing.Pool(processes=3) as pool:\n",
    "        # Map the square function to a list of numbers\n",
    "        numbers = [1, 2, 3, 4, 5]\n",
    "        results = pool.map(square, numbers)\n",
    "\n",
    "    print(\"Results:\", results)\n"
   ]
  },
  {
   "cell_type": "markdown",
   "id": "d28a1ed6-54a6-4832-8288-cd6682feaf74",
   "metadata": {},
   "source": [
    "# Q6. Write a Python program to create 4 processes, each process should print a different number using the multiprocessing module in Python."
   ]
  },
  {
   "cell_type": "code",
   "execution_count": 3,
   "id": "4b3c36de-045a-4815-a616-d29c8fcfe493",
   "metadata": {},
   "outputs": [
    {
     "name": "stdout",
     "output_type": "stream",
     "text": [
      "Process 2: 2Process 1: 1Process 3: 3Process 4: 4\n",
      "\n",
      "\n",
      "\n"
     ]
    }
   ],
   "source": [
    "import multiprocessing\n",
    "\n",
    "def print_number(number):\n",
    "    print(f\"Process {number}: {number}\")\n",
    "\n",
    "if __name__ == \"__main__\":\n",
    "    # Create a list of numbers\n",
    "    numbers = [1, 2, 3, 4]\n",
    "\n",
    "    # Create a multiprocessing pool with 4 worker processes\n",
    "    with multiprocessing.Pool(processes=4) as pool:\n",
    "        # Map the print_number function to the list of numbers\n",
    "        pool.map(print_number, numbers)\n"
   ]
  },
  {
   "cell_type": "code",
   "execution_count": null,
   "id": "e8f8239b-780c-4f93-beba-90288437c9fd",
   "metadata": {},
   "outputs": [],
   "source": []
  }
 ],
 "metadata": {
  "kernelspec": {
   "display_name": "Python 3 (ipykernel)",
   "language": "python",
   "name": "python3"
  },
  "language_info": {
   "codemirror_mode": {
    "name": "ipython",
    "version": 3
   },
   "file_extension": ".py",
   "mimetype": "text/x-python",
   "name": "python",
   "nbconvert_exporter": "python",
   "pygments_lexer": "ipython3",
   "version": "3.10.8"
  }
 },
 "nbformat": 4,
 "nbformat_minor": 5
}
