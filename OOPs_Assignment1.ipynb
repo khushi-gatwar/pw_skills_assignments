{
 "cells": [
  {
   "cell_type": "markdown",
   "id": "da587c77-97bb-41fe-9a75-39d76fd2e2f2",
   "metadata": {
    "tags": []
   },
   "source": [
    "# Q1. Explain Class and Object with respect to Object-Oriented Programming. Give a suitable example."
   ]
  },
  {
   "cell_type": "markdown",
   "id": "34060539-a17b-4fad-aa26-584f67494fbe",
   "metadata": {},
   "source": [
    "## Class\n",
    "In object oriented programming class is a blueprint that defines the properties of an object.\n",
    "It acts as a user-defined data type, encapsulating data (attributes) and methods (functions) that operate on that data. A class serves as a blueprint for creating multiple instances of objects that share the same structure and behavior.\n",
    "\n",
    "## Object\n",
    "An object in OOPs is called an instance of a class.\n",
    "Each object can be viewed as an independent entity with its own identity and characteristics."
   ]
  },
  {
   "cell_type": "code",
   "execution_count": 7,
   "id": "9580ac16-58ed-4d4e-b86d-c13ea513b57e",
   "metadata": {},
   "outputs": [],
   "source": [
    "# code\n",
    "# class\n",
    "class Student:\n",
    "    def __init__(self,name):\n",
    "        self.name = name\n",
    "        \n",
    "    def say_name(self):\n",
    "        print(\"The Name of the student is:\",self.name)"
   ]
  },
  {
   "cell_type": "code",
   "execution_count": 8,
   "id": "59950a7c-c4dc-4452-8657-15c790583172",
   "metadata": {},
   "outputs": [
    {
     "name": "stdout",
     "output_type": "stream",
     "text": [
      "The Name of the student is: Khushi\n"
     ]
    }
   ],
   "source": [
    "# creating object\n",
    "\n",
    "student = Student(\"Khushi\")\n",
    "\n",
    "student.say_name()"
   ]
  },
  {
   "cell_type": "markdown",
   "id": "8d174f3e-e6bc-4128-92db-a04e52ae49bc",
   "metadata": {},
   "source": [
    "# Q2. Name the four pillars of OOPs."
   ]
  },
  {
   "cell_type": "markdown",
   "id": "bdd2c293-f4d8-4735-96af-377ffc452574",
   "metadata": {},
   "source": [
    "The four pillars of OOPs are:\n",
    "    Inheritance,\n",
    "    Abstraction,\n",
    "    Encapsulation,\n",
    "    Polymorphism.\n",
    "    \n",
    "## Inheritance\n",
    "Inheritance is the mechanism that allows a class (subclass) to inherit properties and behaviors from another class (superclass). The subclass can extend or override the attributes and methods of the superclass. Inheritance promotes reusability and hierarchy in class structures.\n",
    "\n",
    "## Abstraction\n",
    "Abstraction is the process of representing essential features of an object while hiding the unnecessary details. It allows us to create abstract classes with abstract methods that define a common interface for subclasses. Abstraction helps in managing complexity by focusing on relevant attributes and behaviors.\n",
    "\n",
    "## Encapsulation\n",
    "Encapsulation is the principle of bundling data (attributes) and methods (functions) that operate on that data within a single unit called a class. It restricts direct access to the data and allows controlled access through methods, promoting data hiding and protecting the internal state of objects.\n",
    "\n",
    "## Polymorphism\n",
    "Polymorphism allows objects of different classes to be treated as objects of a common superclass, enabling one interface (method) to work with objects of various classes. Polymorphism can be achieved through method overloading and method overriding, providing flexibility and extensibility in OOP.\n",
    "    "
   ]
  },
  {
   "cell_type": "markdown",
   "id": "a5280c98-9a78-4454-826f-652110cabfce",
   "metadata": {
    "tags": []
   },
   "source": [
    "# Q3. Explain why the __init__() function is used. Give a suitable example."
   ]
  },
  {
   "cell_type": "markdown",
   "id": "7cf09dfd-87c6-44a6-a3cc-e426495b5b98",
   "metadata": {},
   "source": [
    "The __init__() function, also known as the constructor in Python, is a special method used to initialize the attributes (properties) of an object when it is created from a class. It is automatically called when an object is instantiated and allows you to set the initial state of the object."
   ]
  },
  {
   "cell_type": "code",
   "execution_count": 10,
   "id": "d8dfb533-364b-423e-9cb6-dd0f87f8940f",
   "metadata": {},
   "outputs": [],
   "source": [
    "class Person:\n",
    "    def __init__(self,name,city):\n",
    "        self.name = name\n",
    "        self.city = city\n",
    "        \n",
    "k = Person(\"Khushi\",\"Jabalpur\")"
   ]
  },
  {
   "cell_type": "code",
   "execution_count": 13,
   "id": "efb0eb64-3969-49b1-a9b2-1789c8b207eb",
   "metadata": {},
   "outputs": [
    {
     "data": {
      "text/plain": [
       "('Khushi', 'Jabalpur')"
      ]
     },
     "execution_count": 13,
     "metadata": {},
     "output_type": "execute_result"
    }
   ],
   "source": [
    "k.name, k.city"
   ]
  },
  {
   "cell_type": "markdown",
   "id": "a7d49460-b151-4615-b691-f43927bb11da",
   "metadata": {},
   "source": [
    "# Q4. Why self is used in OOPs?"
   ]
  },
  {
   "cell_type": "markdown",
   "id": "be217f60-7353-4830-b216-549a197b946a",
   "metadata": {},
   "source": [
    "In Object-Oriented Programming (OOP), self is a conventionally used parameter name that represents the instance of a class. It is a reference to the current object being manipulated or accessed within a class method. The purpose of using self is to access and modify the attributes and methods of the object that the method belongs to.\n",
    "The name self is not reserved we can use any name for the first parameter in Python class methods."
   ]
  },
  {
   "cell_type": "markdown",
   "id": "3d8094fb-2d94-473e-9be0-be83c4ed7547",
   "metadata": {},
   "source": [
    "# Q5. What is inheritance? Give an example for each type of inheritance."
   ]
  },
  {
   "cell_type": "markdown",
   "id": "a169fb85-df8c-4967-ad34-2d935073a61f",
   "metadata": {},
   "source": [
    "Inheritance is a fundamental concept in object-oriented programming (OOP) that allows a new class (subclass) to acquire the properties and behaviors of an existing class (superclass). The subclass can reuse the attributes and methods of the superclass and can also define its own attributes and methods. Inheritance promotes code reusability and allows you to create a hierarchical relationship between classes.\n",
    "\n",
    "There are three main types of inheritance:"
   ]
  },
  {
   "cell_type": "markdown",
   "id": "91caa6d5-39d7-4463-831f-8664758f093f",
   "metadata": {},
   "source": [
    "## Single Inheritance:\n",
    "In single inheritance, a subclass inherits from only one superclass. It forms a linear hierarchy of classes. The subclass can extend the behavior of the superclass and can override its methods."
   ]
  },
  {
   "cell_type": "code",
   "execution_count": 14,
   "id": "51eb3c79-62c1-4d0b-b112-e0d5d79977a1",
   "metadata": {},
   "outputs": [
    {
     "name": "stdout",
     "output_type": "stream",
     "text": [
      "Woof!\n"
     ]
    }
   ],
   "source": [
    "class Animal:\n",
    "    def make_sound(self):\n",
    "        print(\"Generic animal sound\")\n",
    "\n",
    "class Dog(Animal):\n",
    "    def make_sound(self):\n",
    "        print(\"Woof!\")\n",
    "\n",
    "dog = Dog()\n",
    "dog.make_sound() "
   ]
  },
  {
   "cell_type": "markdown",
   "id": "83eb35a1-a150-48db-89e4-b6fede8e281e",
   "metadata": {},
   "source": [
    "## Multiple Inheritance:\n",
    "In multiple inheritance, a subclass inherits from multiple superclasses. It allows the subclass to combine the features and behaviors of multiple classes."
   ]
  },
  {
   "cell_type": "code",
   "execution_count": 15,
   "id": "c6d6e7ba-abee-4733-adf9-71c268d08ddc",
   "metadata": {},
   "outputs": [
    {
     "name": "stdout",
     "output_type": "stream",
     "text": [
      "Chirp!\n"
     ]
    }
   ],
   "source": [
    "class Bird:\n",
    "    def make_sound(self):\n",
    "        print(\"Chirp!\")\n",
    "\n",
    "class Mammal:\n",
    "    def make_sound(self):\n",
    "        print(\"Roar!\")\n",
    "\n",
    "class Bat(Bird, Mammal):\n",
    "    pass\n",
    "\n",
    "bat = Bat()\n",
    "bat.make_sound() "
   ]
  },
  {
   "cell_type": "markdown",
   "id": "1a86f0cd-d124-44d0-9a24-d8031e812a4b",
   "metadata": {},
   "source": [
    "## Multi-level Inheritance:\n",
    "In multi-level inheritance, a subclass inherits from another subclass, creating a chain of inheritance. It allows the subclass to access features and behaviors from multiple levels of the hierarchy."
   ]
  },
  {
   "cell_type": "code",
   "execution_count": 16,
   "id": "dbbe9ba7-8640-48fd-8b96-fecbb56bb273",
   "metadata": {},
   "outputs": [
    {
     "name": "stdout",
     "output_type": "stream",
     "text": [
      "Woof!\n"
     ]
    }
   ],
   "source": [
    "class Animal:\n",
    "    def make_sound(self):\n",
    "        print(\"Generic animal sound\")\n",
    "\n",
    "class Dog(Animal):\n",
    "    def make_sound(self):\n",
    "        print(\"Woof!\")\n",
    "\n",
    "class Labrador(Dog):\n",
    "    pass\n",
    "\n",
    "labrador = Labrador()\n",
    "labrador.make_sound()  "
   ]
  },
  {
   "cell_type": "code",
   "execution_count": null,
   "id": "b56367c3-18c4-4a77-a5e2-e7d5ecc989c5",
   "metadata": {},
   "outputs": [],
   "source": []
  }
 ],
 "metadata": {
  "kernelspec": {
   "display_name": "Python 3 (ipykernel)",
   "language": "python",
   "name": "python3"
  },
  "language_info": {
   "codemirror_mode": {
    "name": "ipython",
    "version": 3
   },
   "file_extension": ".py",
   "mimetype": "text/x-python",
   "name": "python",
   "nbconvert_exporter": "python",
   "pygments_lexer": "ipython3",
   "version": "3.10.8"
  }
 },
 "nbformat": 4,
 "nbformat_minor": 5
}
