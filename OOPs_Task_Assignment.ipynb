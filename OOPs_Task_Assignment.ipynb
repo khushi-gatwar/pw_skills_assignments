{
 "cells": [
  {
   "cell_type": "markdown",
   "id": "002ff1e1-ec80-4fc8-b28c-32590e62cb97",
   "metadata": {},
   "source": [
    "# Q1, Create a vehicle class with an init method having instance variables as name_of_vehicle, max_speed and average_of_vehicle."
   ]
  },
  {
   "cell_type": "code",
   "execution_count": 1,
   "id": "9011a13e-c2e6-40b8-9a78-e030283641fb",
   "metadata": {},
   "outputs": [],
   "source": [
    "class Vehicle:\n",
    "    def __init__(self,name,max_speed,average):\n",
    "        self.name = name\n",
    "        self.max_speed = max_speed\n",
    "        self.avereage = average"
   ]
  },
  {
   "cell_type": "markdown",
   "id": "ae09a684-f041-4126-b3b2-bb425c1b9316",
   "metadata": {},
   "source": [
    "# Q2. Create a child class car from the vehicle class created in Que 1, which will inherit the vehicle class. Create a method named seating_capacity which takes capacity as an argument and returns the name of the vehicle and its seating capacity."
   ]
  },
  {
   "cell_type": "code",
   "execution_count": 15,
   "id": "9d754c13-535e-4256-964e-cbe134c562d3",
   "metadata": {},
   "outputs": [],
   "source": [
    "class Car(Vehicle):\n",
    "    def seating_capacity(self,capacity):\n",
    "        self.capacity = capacity\n",
    "        return self.name , self.capacity"
   ]
  },
  {
   "cell_type": "markdown",
   "id": "bd3b2156-f157-464e-928f-9391b58ce28d",
   "metadata": {},
   "source": [
    "# Q3. What is multiple inheritance? Write a python code to demonstrate multiple inheritance."
   ]
  },
  {
   "cell_type": "markdown",
   "id": "17406436-6f6b-4763-92c2-0543741a18dd",
   "metadata": {},
   "source": [
    "Multiple inheritance is when a child class inherits from more than one parent class."
   ]
  },
  {
   "cell_type": "code",
   "execution_count": 16,
   "id": "1fe76638-914f-4fee-b049-0a15f5b29a68",
   "metadata": {},
   "outputs": [],
   "source": [
    "class Parent1():\n",
    "    def test(self):\n",
    "        return \"This is from Parent 1\""
   ]
  },
  {
   "cell_type": "code",
   "execution_count": 17,
   "id": "189dafce-5822-4b2b-ba42-6987f153c3d9",
   "metadata": {},
   "outputs": [],
   "source": [
    "class Parent2():\n",
    "    def test2(self):\n",
    "        return \"This is froom Parent 2\""
   ]
  },
  {
   "cell_type": "code",
   "execution_count": 20,
   "id": "f920bb24-93ad-4534-a5b7-5e5f5862ad23",
   "metadata": {},
   "outputs": [],
   "source": [
    "class Child(Parent1,Parent2):\n",
    "    def test_child(self):\n",
    "        pass"
   ]
  },
  {
   "cell_type": "markdown",
   "id": "a58341db-635e-4b22-a39f-793be7e6a770",
   "metadata": {},
   "source": [
    "# Q4. What are getter and setter in python? Create a class and create a getter and a setter method in this class."
   ]
  },
  {
   "cell_type": "markdown",
   "id": "9e29e16e-2d63-4451-a2c2-df98b794d595",
   "metadata": {},
   "source": [
    "Getters and setters are methods used to control the access and modification of class attributes (variables).\n",
    "\n",
    "Getter: A getter method is used to access the value of a class attribute. It allows us to retrieve the value of a private attribute without directly accessing it from outside the class.\n",
    "\n",
    "Setter: A setter method is used to modify the value of a class attribute. It allows us to set the value of a private attribute with some data or constraints before assigning the new value."
   ]
  },
  {
   "cell_type": "code",
   "execution_count": 22,
   "id": "751b549a-c708-4f75-b276-96c4d96c8885",
   "metadata": {},
   "outputs": [],
   "source": [
    "class Student:\n",
    "    def __init__(self,name,age,city):\n",
    "        self.__name = name\n",
    "        self.__age = age\n",
    "        self.__city = city\n",
    "        \n",
    "    def get_student_details(self):\n",
    "        return self.__name,self.__age,self.__city\n",
    "    \n",
    "    def set_student_details(self,name,age,city):\n",
    "        self.__name = name\n",
    "        if(age<0):\n",
    "            raise ValueError(\"Age should be a positive number.\")\n",
    "        else:\n",
    "            self.__age = age\n",
    "            \n",
    "        self.__city = city"
   ]
  },
  {
   "cell_type": "markdown",
   "id": "6b2d381b-001e-4c2c-b0d1-b592b49b2e2f",
   "metadata": {},
   "source": [
    "# Q5.What is method overriding in python? Write a python code to demonstrate method overriding."
   ]
  },
  {
   "cell_type": "markdown",
   "id": "49799df1-32d5-4958-ad83-fd84c88385c3",
   "metadata": {},
   "source": [
    "Method overriding is one of a feature of object oriented programming.When a subclass defines a method with the same name and signature as a method in its superclass, the method in the subclass overrides the method in the superclass, and the subclass's method is called instead of the superclass's method when the object is of the subclass type."
   ]
  },
  {
   "cell_type": "code",
   "execution_count": 25,
   "id": "2d964d7a-0eb1-4a4c-a49c-aa980a66f95f",
   "metadata": {},
   "outputs": [
    {
     "name": "stdout",
     "output_type": "stream",
     "text": [
      "Woof!\n",
      "Meow!\n"
     ]
    }
   ],
   "source": [
    "class Animal:\n",
    "    def make_sound(self):\n",
    "        print(\"Generic animal sound\")\n",
    "\n",
    "class Dog(Animal):\n",
    "    def make_sound(self):\n",
    "        print(\"Woof!\")\n",
    "\n",
    "class Cat(Animal):\n",
    "    def make_sound(self):\n",
    "        print(\"Meow!\")\n",
    "        \n",
    "dog = Dog()\n",
    "cat = Cat()\n",
    "\n",
    "dog.make_sound()\n",
    "cat.make_sound()"
   ]
  }
 ],
 "metadata": {
  "kernelspec": {
   "display_name": "Python 3 (ipykernel)",
   "language": "python",
   "name": "python3"
  },
  "language_info": {
   "codemirror_mode": {
    "name": "ipython",
    "version": 3
   },
   "file_extension": ".py",
   "mimetype": "text/x-python",
   "name": "python",
   "nbconvert_exporter": "python",
   "pygments_lexer": "ipython3",
   "version": "3.10.8"
  }
 },
 "nbformat": 4,
 "nbformat_minor": 5
}
