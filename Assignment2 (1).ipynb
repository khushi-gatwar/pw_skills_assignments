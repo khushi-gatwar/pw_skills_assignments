{
 "cells": [
  {
   "cell_type": "markdown",
   "id": "317b3d39-967c-4103-853c-d2ab405a1553",
   "metadata": {
    "jp-MarkdownHeadingCollapsed": true,
    "tags": []
   },
   "source": [
    "# Q1. How do you comment code in Python? What are the different types of comments?"
   ]
  },
  {
   "cell_type": "code",
   "execution_count": 2,
   "id": "fb4ba2f4-fbea-4dd6-9a23-1c9d5717c3eb",
   "metadata": {},
   "outputs": [
    {
     "data": {
      "text/plain": [
       "'this is how\\n    you do multi line\\n    comment'"
      ]
     },
     "execution_count": 2,
     "metadata": {},
     "output_type": "execute_result"
    }
   ],
   "source": [
    "# this is a single line comment\n",
    "\"\"\"this is how\n",
    "    you do multi line\n",
    "    comment\"\"\""
   ]
  },
  {
   "cell_type": "markdown",
   "id": "8b5c9767-3d91-42a3-aee8-7b8734031dc2",
   "metadata": {
    "jp-MarkdownHeadingCollapsed": true,
    "tags": []
   },
   "source": [
    "# Q2. What are variables in Python? How do you declare and assign values to variables?"
   ]
  },
  {
   "cell_type": "markdown",
   "id": "d2dd7a4e-d680-472b-a86a-d8e6bf74d3b3",
   "metadata": {},
   "source": [
    "variables are used to store data values\n",
    "\n",
    "To declare a variable in python:\n",
    "write variable name and assign value to it."
   ]
  },
  {
   "cell_type": "code",
   "execution_count": 1,
   "id": "04ead008-1ddf-4268-8527-297d7cb35757",
   "metadata": {},
   "outputs": [],
   "source": [
    "# declaring variables in python\n",
    "\n",
    "var = 1\n",
    "s = 'anything'"
   ]
  },
  {
   "cell_type": "code",
   "execution_count": 2,
   "id": "1a106ec0-49af-43e8-aa7f-e854439655a1",
   "metadata": {},
   "outputs": [
    {
     "data": {
      "text/plain": [
       "1"
      ]
     },
     "execution_count": 2,
     "metadata": {},
     "output_type": "execute_result"
    }
   ],
   "source": [
    "var"
   ]
  },
  {
   "cell_type": "code",
   "execution_count": 3,
   "id": "feb9ec71-6e4a-498a-a593-6edd2193ef2a",
   "metadata": {},
   "outputs": [
    {
     "data": {
      "text/plain": [
       "'anything'"
      ]
     },
     "execution_count": 3,
     "metadata": {},
     "output_type": "execute_result"
    }
   ],
   "source": [
    "s"
   ]
  },
  {
   "cell_type": "markdown",
   "id": "7df4003f-f41d-4e30-821b-a39d14133cd1",
   "metadata": {
    "jp-MarkdownHeadingCollapsed": true,
    "tags": []
   },
   "source": [
    "# Q3. How do you convert one data type to another in Python?"
   ]
  },
  {
   "cell_type": "markdown",
   "id": "a5346154-dfb3-4a28-8cf3-6317bba8da85",
   "metadata": {},
   "source": [
    " Typecasting is used to convert one data type to another in python."
   ]
  },
  {
   "cell_type": "code",
   "execution_count": 12,
   "id": "5dc6be58-a89e-4f0d-8774-cb8a7744fc49",
   "metadata": {},
   "outputs": [
    {
     "name": "stdin",
     "output_type": "stream",
     "text": [
      "Enter some integer value please 10\n"
     ]
    }
   ],
   "source": [
    "i = input(\"Enter some integer value please\")"
   ]
  },
  {
   "cell_type": "code",
   "execution_count": 13,
   "id": "3fc25942-4e48-4c6d-a020-406b22ad089f",
   "metadata": {},
   "outputs": [
    {
     "name": "stdout",
     "output_type": "stream",
     "text": [
      "Before typecasting  <class 'str'>\n",
      "After type casting  <class 'int'>\n"
     ]
    }
   ],
   "source": [
    "print(\"Before typecasting \",type(i))\n",
    "# typecasting\n",
    "i = int(i)\n",
    "print(\"After type casting \",type(i))"
   ]
  },
  {
   "cell_type": "markdown",
   "id": "3c4b0f05-301d-450e-a154-1e4db0c44500",
   "metadata": {
    "jp-MarkdownHeadingCollapsed": true,
    "tags": []
   },
   "source": [
    "# Q4. How do you write and execute a Python script from the command line?"
   ]
  },
  {
   "cell_type": "markdown",
   "id": "90902adf-069a-410c-901b-9badb25ee3bc",
   "metadata": {},
   "source": [
    "python filename.py"
   ]
  },
  {
   "cell_type": "markdown",
   "id": "4e960cc1-f07f-4982-8903-e5e8182fa2b8",
   "metadata": {
    "jp-MarkdownHeadingCollapsed": true,
    "tags": []
   },
   "source": [
    "# Q5. Given a list my_list = [1, 2, 3, 4, 5], write the code to slice the list and obtain the sub-list [2, 3]."
   ]
  },
  {
   "cell_type": "code",
   "execution_count": 1,
   "id": "de8ef993-4c7a-4e73-a63f-cd2bbe836c9b",
   "metadata": {},
   "outputs": [
    {
     "name": "stdout",
     "output_type": "stream",
     "text": [
      "[2, 3]\n"
     ]
    }
   ],
   "source": [
    "my_list = [1, 2, 3, 4, 5]\n",
    "\n",
    "print(my_list[1:3])"
   ]
  },
  {
   "cell_type": "markdown",
   "id": "0f4a6395-3f78-4061-8a5a-2d85b2250f49",
   "metadata": {
    "jp-MarkdownHeadingCollapsed": true,
    "tags": []
   },
   "source": [
    "# Q6. What is a complex number in mathematics, and how is it represented in Python?"
   ]
  },
  {
   "cell_type": "markdown",
   "id": "ce405587-8573-41be-988c-1b6e0393060d",
   "metadata": {},
   "source": [
    "Complex numbers are the numbers that are expressed in the form of a+bi in mathematics ,where a is the real part and b is the imaginary part.\n",
    "\n",
    "To represent complex number in python 'j' is used inplace of 'i'."
   ]
  },
  {
   "cell_type": "code",
   "execution_count": 2,
   "id": "f4a4aaed-b985-4b76-881f-c0cbe8dd8e8d",
   "metadata": {},
   "outputs": [
    {
     "data": {
      "text/plain": [
       "complex"
      ]
     },
     "execution_count": 2,
     "metadata": {},
     "output_type": "execute_result"
    }
   ],
   "source": [
    "z = 1+2j\n",
    "type(z)"
   ]
  },
  {
   "cell_type": "markdown",
   "id": "6a0e8385-b05b-4f38-9936-2c5bf926fa90",
   "metadata": {
    "jp-MarkdownHeadingCollapsed": true,
    "tags": []
   },
   "source": [
    "# Q7. What is the correct way to declare a variable named age and assign the value 25 to it?"
   ]
  },
  {
   "cell_type": "code",
   "execution_count": 3,
   "id": "d133fdd9-d097-4e49-a9f3-a13ee3c8d53a",
   "metadata": {},
   "outputs": [],
   "source": [
    "age = 25"
   ]
  },
  {
   "cell_type": "markdown",
   "id": "fbf1da72-6d6b-4d64-9065-2be7fcc9ad5f",
   "metadata": {
    "jp-MarkdownHeadingCollapsed": true,
    "tags": []
   },
   "source": [
    "# Q8. Declare a variable named price and assign the value 9.99 to it. What data type does this variable belong to?"
   ]
  },
  {
   "cell_type": "code",
   "execution_count": 4,
   "id": "e44de162-d362-47d9-8c4b-96bf21dfc546",
   "metadata": {},
   "outputs": [],
   "source": [
    "price = 9.99 # float"
   ]
  },
  {
   "cell_type": "code",
   "execution_count": 5,
   "id": "97a40875-0d50-4b2d-9f85-a75832be0fb8",
   "metadata": {},
   "outputs": [
    {
     "data": {
      "text/plain": [
       "float"
      ]
     },
     "execution_count": 5,
     "metadata": {},
     "output_type": "execute_result"
    }
   ],
   "source": [
    "type(price)"
   ]
  },
  {
   "cell_type": "markdown",
   "id": "9c9eca8e-118e-42e2-8cf4-14c248257a70",
   "metadata": {
    "jp-MarkdownHeadingCollapsed": true,
    "tags": []
   },
   "source": [
    "# Q9. Create a variable named name and assign your full name to it as a string. How would you print the value of this variable?"
   ]
  },
  {
   "cell_type": "code",
   "execution_count": 8,
   "id": "f2ca17b2-a407-4e14-a36a-6d6792721b9d",
   "metadata": {},
   "outputs": [
    {
     "name": "stdout",
     "output_type": "stream",
     "text": [
      "Khushi Gatwar\n"
     ]
    }
   ],
   "source": [
    "name = \"Khushi Gatwar\"\n",
    "\n",
    "print(name)"
   ]
  },
  {
   "cell_type": "markdown",
   "id": "3f9cf361-984e-4744-a254-48423c4c0fc6",
   "metadata": {
    "tags": []
   },
   "source": [
    "# Q10. Given the string \"Hello, World!\", extract the substring \"World\"."
   ]
  },
  {
   "cell_type": "code",
   "execution_count": 9,
   "id": "7e3e3110-a264-4618-9a42-2ce82c3430ab",
   "metadata": {},
   "outputs": [],
   "source": [
    "s = \"Hello, World!\""
   ]
  },
  {
   "cell_type": "code",
   "execution_count": 10,
   "id": "a35e32fe-1d13-4a8b-b9c3-b2bbce371745",
   "metadata": {},
   "outputs": [],
   "source": [
    "sub = s[7:]"
   ]
  },
  {
   "cell_type": "code",
   "execution_count": 11,
   "id": "28bdbb4f-ad5b-4562-aaef-85024aa8bbe3",
   "metadata": {},
   "outputs": [
    {
     "data": {
      "text/plain": [
       "'World!'"
      ]
     },
     "execution_count": 11,
     "metadata": {},
     "output_type": "execute_result"
    }
   ],
   "source": [
    "sub"
   ]
  },
  {
   "cell_type": "markdown",
   "id": "8bb8b660-776e-4a19-b29c-904e8e651f93",
   "metadata": {
    "tags": []
   },
   "source": [
    "# Q11. Create a variable named \"is_student\" and assign it a boolean value indicating whether you are currently a student or not."
   ]
  },
  {
   "cell_type": "code",
   "execution_count": 12,
   "id": "da349e10-1e4f-49ac-8087-261c666e951a",
   "metadata": {},
   "outputs": [],
   "source": [
    "is_student = True"
   ]
  },
  {
   "cell_type": "code",
   "execution_count": 13,
   "id": "cde41660-445e-415e-910a-5a7874ab7059",
   "metadata": {},
   "outputs": [
    {
     "data": {
      "text/plain": [
       "True"
      ]
     },
     "execution_count": 13,
     "metadata": {},
     "output_type": "execute_result"
    }
   ],
   "source": [
    "is_student"
   ]
  },
  {
   "cell_type": "code",
   "execution_count": null,
   "id": "79154acf-2d98-46bb-9acd-37cbce85e56f",
   "metadata": {},
   "outputs": [],
   "source": []
  }
 ],
 "metadata": {
  "kernelspec": {
   "display_name": "Python 3 (ipykernel)",
   "language": "python",
   "name": "python3"
  },
  "language_info": {
   "codemirror_mode": {
    "name": "ipython",
    "version": 3
   },
   "file_extension": ".py",
   "mimetype": "text/x-python",
   "name": "python",
   "nbconvert_exporter": "python",
   "pygments_lexer": "ipython3",
   "version": "3.10.8"
  }
 },
 "nbformat": 4,
 "nbformat_minor": 5
}
